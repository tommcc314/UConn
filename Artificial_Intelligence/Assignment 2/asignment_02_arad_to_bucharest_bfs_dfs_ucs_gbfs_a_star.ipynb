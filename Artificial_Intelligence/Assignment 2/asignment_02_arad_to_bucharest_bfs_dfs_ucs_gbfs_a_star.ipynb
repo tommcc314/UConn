{
 "cells": [
  {
   "cell_type": "markdown",
   "id": "6054f764",
   "metadata": {
    "deletable": false,
    "editable": false
   },
   "source": [
    "## CSE 4705: Assignment 02 - Arad to Bucharest - BFS, DFS, UCS, GBFS, A* \n"
   ]
  },
  {
   "cell_type": "markdown",
   "id": "1393af5b",
   "metadata": {
    "deletable": false
   },
   "source": [
    "## Problem 1\n",
    "[100] Write a routine that solves the problem of finds a travel path of cities from from Arad to Bucharest in Romania, as discussed in class. Do this using each of the following approaches (points shown in brackets):\n",
    "\n",
    "1. [15] Breadth First Search (BFS)\n",
    "2. [10] Depth First Search (DFS)\n",
    "3. [25] Uniform Cost Search (UCS)\n",
    "4. [25] Greedy Best First Search (GBFS)\n",
    "5. [25] A*\n",
    "\n",
    "\n",
    "You will use the map from Lecture 03 - Informed Search which shows the major cities in Romania and the distances between them for those cities that are directly connected.  Also, you will use the straight-line-distances shown in the adjacent table for your heuristic function, $h(n)$ for GBFS and A*.  A screenshot of the relevant slide is given below.  Data structures that store this information, romania_map and sld_to_bucharest, have been provided so you can access and apply this data in your algorithm implementations.  Details of these data structures are given below.\n",
    "\n",
    "<img src=\"images/romania_cities.png\" width=\"800\" height=\"600\">\n",
    "\n",
    "### Output for Each Routine\n",
    "\n",
    "Each of your routines should return an output or set of outputs that clearly indicates the following:\n",
    "\n",
    "1. The sequence of cities from Arad to Bucharest.  (Make sure the cities, Arad and Bucharest are explicitly listed as the first and last cities in your output.)  One suggestion is to return this output in the form of a list.\n",
    "2. Cost to travel to each city from its predecessor.  \n",
    "3. Total cost for the path.  \n",
    "\n",
    "In the case of A* and Uniform Cost Search, your routines should return the *cheapest path*.  However, that will not necessarily be the case for BFS, DFS, or GBFS.  (Why not?)"
   ]
  },
  {
   "cell_type": "markdown",
   "id": "4bd90c49",
   "metadata": {
    "deletable": false,
    "editable": false
   },
   "source": [
    "### Romania Graph\n",
    "\n",
    "You will use the data structure stored in the romania_map, assigned below to implement the search across the various cities to find a path from Arad to Bucharest.\n",
    "\n",
    "Some details about romania_map:\n",
    "- A dictionary of dictionaries \n",
    "- The outer dictionary is as follows: each key is a city and the value for that city is a nested dictionary of cities to which the said city is directly connected.\n",
    "- The nested dictionary contains the cities to which the parent key is directly connected (keys) and the corresponding distances from the parent city to those respective cities (values).\n",
    "- For example, for the city Oradea, we have a key in the outer dictionary (Oradea), and the associated value is a dictionary containing the Zerind and Sibiu as keys, where for each of these the values are the distances from Oradea to these respective cities.\n",
    "\n"
   ]
  },
  {
   "cell_type": "code",
   "execution_count": 53,
   "id": "2e39553c",
   "metadata": {
    "deletable": false,
    "editable": false
   },
   "outputs": [],
   "source": [
    "\n",
    "romania_map = {\n",
    "    'Oradea':{'Zerind':71, 'Sibiu':151},\n",
    "    'Zerind':{'Oradea':71, 'Arad':75},\n",
    "    'Arad':{'Zerind':75, 'Sibiu':140, 'Timisoara':118},\n",
    "    'Timisoara':{'Arad':118, 'Lugoj':111},\n",
    "    'Lugoj':{'Timisoara':111, 'Mehadia':70},\n",
    "    'Mehadia':{'Lugoj':70, 'Dobreta':75},\n",
    "    'Dobreta':{'Mehadia':75, 'Craiova':120},\n",
    "    'Sibiu':{'Oradea':151, 'Fagaras':99, 'Rimnicu Vilcea':80, 'Arad':140},\n",
    "    'Rimnicu Vilcea':{'Sibiu':80, 'Pitesti':97, 'Craiova':146},\n",
    "    'Craiova':{'Rimnicu Vilcea':146, 'Pitesti':138, 'Dobreta':120},\n",
    "    'Fagaras':{'Sibiu':99, 'Bucharest':211},\n",
    "    'Pitesti':{'Rimnicu Vilcea':97, 'Bucharest':101, 'Craiova':138},\n",
    "    'Neamt':{'Iasi':87},\n",
    "    'Giurgiu':{'Bucharest':90},\n",
    "    'Bucharest':{'Pitesti':101, 'Fagaras':211, 'Urziceni':85, 'Giurgiu':90},\n",
    "    'Iasi':{'Neamt':87, 'Vaslui':92},\n",
    "    'Urziceni':{'Bucharest':85, 'Vaslui':142, 'Hirsova':98},\n",
    "    'Vaslui':{'Iasi':92, 'Urziceni':142},\n",
    "    'Hirsova':{'Urziceni':98, 'Eforie':86},\n",
    "    'Eforie':{'Hirsova':86}\n",
    "}"
   ]
  },
  {
   "cell_type": "markdown",
   "id": "39c843be",
   "metadata": {
    "deletable": false,
    "editable": false
   },
   "source": [
    "### Heuristic Function Data - Straight-Line Distances to Bucharest\n",
    "\n",
    "You will use the dictionary below as your resource for retrieving straight-line distance data for implementing the GBFS and A* algorithms."
   ]
  },
  {
   "cell_type": "code",
   "execution_count": 31,
   "id": "3f8011e4",
   "metadata": {
    "deletable": false,
    "editable": false
   },
   "outputs": [],
   "source": [
    "sld_to_Bucharest = {'Arad':366,\n",
    "                    'Bucharest':0,\n",
    "                    'Craiova':160,\n",
    "                    'Dobreta':242,\n",
    "                    'Eforie':161,\n",
    "                    'Fagaras':176,\n",
    "                    'Giurgiu':77,\n",
    "                    'Hirsova':151,\n",
    "                    'Iasi':226,\n",
    "                    'Lugoj':244,\n",
    "                    'Mehadia':241,\n",
    "                    'Neamt':234,\n",
    "                    'Oradea':380,\n",
    "                    'Pitesti':100,\n",
    "                    'Rimnicu Vilcea':193,\n",
    "                    'Sibiu':253,\n",
    "                    'Timisoara':329,\n",
    "                    'Urziceni':80,\n",
    "                    'Vaslui':199,\n",
    "                    'Zerind':374\n",
    "                   }"
   ]
  },
  {
   "cell_type": "markdown",
   "id": "aaad6190",
   "metadata": {
    "deletable": false,
    "editable": false
   },
   "source": [
    "### 1. BFS Implementation\n",
    "\n",
    "Provide your implementation of the BFS Search below."
   ]
  },
  {
   "cell_type": "code",
   "execution_count": null,
   "id": "66236169",
   "metadata": {},
   "outputs": [],
   "source": []
  },
  {
   "cell_type": "code",
   "execution_count": null,
   "id": "6d4b2a4e",
   "metadata": {},
   "outputs": [],
   "source": []
  },
  {
   "cell_type": "code",
   "execution_count": null,
   "id": "37b40a88",
   "metadata": {},
   "outputs": [],
   "source": []
  },
  {
   "cell_type": "code",
   "execution_count": null,
   "id": "85567d7c",
   "metadata": {},
   "outputs": [],
   "source": []
  },
  {
   "cell_type": "code",
   "execution_count": null,
   "id": "7566e27c",
   "metadata": {},
   "outputs": [],
   "source": []
  },
  {
   "cell_type": "markdown",
   "id": "d7c03e3c",
   "metadata": {
    "deletable": false,
    "editable": false
   },
   "source": [
    "### 2.  DFS Implementation\n",
    "\n",
    "Provide your implementation of the DFS Search below."
   ]
  },
  {
   "cell_type": "code",
   "execution_count": null,
   "id": "65ee1bf0",
   "metadata": {},
   "outputs": [],
   "source": []
  },
  {
   "cell_type": "code",
   "execution_count": null,
   "id": "73611d75",
   "metadata": {},
   "outputs": [],
   "source": []
  },
  {
   "cell_type": "code",
   "execution_count": null,
   "id": "457ce670",
   "metadata": {},
   "outputs": [],
   "source": []
  },
  {
   "cell_type": "code",
   "execution_count": null,
   "id": "dbbc387a",
   "metadata": {},
   "outputs": [],
   "source": []
  },
  {
   "cell_type": "code",
   "execution_count": null,
   "id": "34e59656",
   "metadata": {},
   "outputs": [],
   "source": []
  },
  {
   "cell_type": "markdown",
   "id": "96b855a1",
   "metadata": {
    "deletable": false,
    "editable": false
   },
   "source": [
    "### 3. UCS Implementation\n",
    "\n",
    "Provide your implementation of the UCS Search below."
   ]
  },
  {
   "cell_type": "code",
   "execution_count": null,
   "id": "8c5be3b0",
   "metadata": {},
   "outputs": [],
   "source": []
  },
  {
   "cell_type": "code",
   "execution_count": null,
   "id": "380ce651",
   "metadata": {},
   "outputs": [],
   "source": []
  },
  {
   "cell_type": "code",
   "execution_count": null,
   "id": "8b805705",
   "metadata": {},
   "outputs": [],
   "source": []
  },
  {
   "cell_type": "code",
   "execution_count": null,
   "id": "bc33a3d7",
   "metadata": {},
   "outputs": [],
   "source": []
  },
  {
   "cell_type": "code",
   "execution_count": null,
   "id": "5a055202",
   "metadata": {},
   "outputs": [],
   "source": []
  },
  {
   "cell_type": "markdown",
   "id": "482eb6c4",
   "metadata": {
    "deletable": false,
    "editable": false
   },
   "source": [
    "### 4. GBFS Implementation\n",
    "\n",
    "Provide your implementation of the GBFS Search below."
   ]
  },
  {
   "cell_type": "code",
   "execution_count": null,
   "id": "6abab9d3",
   "metadata": {},
   "outputs": [],
   "source": []
  },
  {
   "cell_type": "code",
   "execution_count": null,
   "id": "3638eb80",
   "metadata": {},
   "outputs": [],
   "source": []
  },
  {
   "cell_type": "code",
   "execution_count": null,
   "id": "72645e66",
   "metadata": {},
   "outputs": [],
   "source": []
  },
  {
   "cell_type": "code",
   "execution_count": null,
   "id": "ffce40f3",
   "metadata": {},
   "outputs": [],
   "source": []
  },
  {
   "cell_type": "code",
   "execution_count": null,
   "id": "76f96c44",
   "metadata": {},
   "outputs": [],
   "source": []
  },
  {
   "cell_type": "markdown",
   "id": "18423249",
   "metadata": {
    "deletable": false,
    "editable": false
   },
   "source": [
    "### 5. A* Implementation\n",
    "\n",
    "Provide your implementation of the A* Algorithm below."
   ]
  },
  {
   "cell_type": "code",
   "execution_count": null,
   "id": "2647730d",
   "metadata": {},
   "outputs": [],
   "source": []
  },
  {
   "cell_type": "code",
   "execution_count": null,
   "id": "f507d40e",
   "metadata": {},
   "outputs": [],
   "source": []
  },
  {
   "cell_type": "code",
   "execution_count": null,
   "id": "18e84dcf",
   "metadata": {},
   "outputs": [],
   "source": []
  },
  {
   "cell_type": "code",
   "execution_count": null,
   "id": "79b9b9bb",
   "metadata": {},
   "outputs": [],
   "source": []
  },
  {
   "cell_type": "code",
   "execution_count": null,
   "id": "979e3987",
   "metadata": {},
   "outputs": [],
   "source": []
  }
 ],
 "metadata": {
  "kernelspec": {
   "display_name": "Python 3 (ipykernel)",
   "language": "python",
   "name": "python3"
  },
  "language_info": {
   "codemirror_mode": {
    "name": "ipython",
    "version": 3
   },
   "file_extension": ".py",
   "mimetype": "text/x-python",
   "name": "python",
   "nbconvert_exporter": "python",
   "pygments_lexer": "ipython3",
   "version": "3.11.5"
  }
 },
 "nbformat": 4,
 "nbformat_minor": 5
}
