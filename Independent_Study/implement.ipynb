{
 "cells": [
  {
   "cell_type": "markdown",
   "id": "b1178ea5-da04-493b-87db-260c6a5e04a1",
   "metadata": {},
   "source": [
    "## Independent Study: Implementing learning models to analyze HTTP request payloads.\n",
    "\n",
    "[Inspired by this paper](https://ieeexplore.ieee.org/document/9199895)\n"
   ]
  },
  {
   "cell_type": "markdown",
   "id": "692e88ef-80ec-43a6-8731-733b08129185",
   "metadata": {},
   "source": [
    "## Table of Contents\n",
    "\n",
    "1. [Introduction](#introduction)\n",
    "2. [Literature Review](#literature)\n",
    "3. [Methodology](#models)\n",
    "4. [Impementation](#implement)\n",
    "    1. [Imports](#implement_imports)\n",
    "    2. [Constants](#implement_constants)\n",
    "    3. [Pre-processing: Loading and Normalizing HTTP Payloads](#implement_loading)\n",
    "    4. [Pre-processing: Vectorizing the Features](#implement_vectorizing)\n",
    "    5. [BIRCH Clustering](#implement_birch)\n",
    "    6. [Dimensionality Reduction](#implement_svd)\n",
    "    7. [Exploring the clusters](#implement_cluster_explore)\n",
    "    8. [Classification: oc-svm](#implement_ocsvm)\n",
    "    9. [Classification: Random Forest](#implement_random_forest)\n",
    "    10. [Examining areas of improvement](#implement_improvement)\n",
    "    11. [Using More Detailed Vectorization](#implement_vectorizing_detailed)\n",
    "5. [Conclusion](#conclusion)"
   ]
  },
  {
   "cell_type": "markdown",
   "id": "9f8de695-1738-402e-8daf-ef88e65de62d",
   "metadata": {},
   "source": [
    "## Introduction <a id=\"introduction\"></a>\n",
    "\n",
    "As networks continue to become more distributed and complex with the addition of IoT devices, cybersecurity is a big priority in 6G research. Classical ML models are being explored to meet the need for robust, yet efficient methods for monitoring networks and detecting attacks. Once trained, many classical ML models can be run without too much compute power, making them suitable for smaller, distributed devices. For this project, I researched the logic and algorithms of several ML methods. Then, I use a structured dataset of HTTP requests to train those models and evaluate their performance. The purpose is primarily to gain introductory experience with using and tuning ML models."
   ]
  },
  {
   "cell_type": "markdown",
   "id": "4c1e2790-eedb-4a1e-84f0-67068d5ecd19",
   "metadata": {},
   "source": [
    "## Literature Review <a id=\"literature\"></a>\n",
    "\n",
    "There are many cybersecurity paradigms in which Machine Learning algorithms can be useful, as outlined in [[6]](#ref-6). Distributed Denial-of-Service (DDoS) attacks and other anomalous network traffic can be mitigated if automated processes can detect behavior and target the attackers. Well-trained models may also be able to detect malware in a network based on system measurements. As networks grow and become more distributed as we move into the era of IoT and 6G, it is important that these cybersecurity measures to be scalable and efficient. The term \"edge intelligence\" encompasses this distributed intelligence, and research has focused on applying these intelligent algorithms.\n",
    "\n",
    "There are many papers that have explored the use of classical Machine Learning methods in cybersecurity. In [[5]](#ref-5), a Random Forest classifier is used to detect Android malware. Given the changing state of an Android device, the classifier identified when malware was being run. Features were recorded using privileged access to Android device systems, with measurements of system performance. In [[3]](#ref-3), an anomaly detection classifier, One-class Support Vector Machine, is implemented to detect application-level DDoS. The model goes beyond the traditional TCP/IP level detection and finds anomalies among user behavior, such as very long active sessions and randomly ordered requests. In [[7]](#ref-7), authors explore the use of Graph Neural Networks in learning Threat Intelligence Knowledge Graphs. These graphs describe the relationships between attackers, weaknesses, and connections within a system. \n",
    "\n",
    "Many important request parameters are strings rather than numbers, so this data needs to be pre-processed and vectorized. In [[1]](#ref-1), the authors propose an ensemble model which combines both clustering and classification models to detect anomalies in HTTP requests. They tokenized SQL keywords and all other words before performing a bag-of-words analysis and generating vectors. In [[8]](#ref-8), HTTP requests were imported into documents which were fed into the doc2vec algorithm. This algorithm is trained to predict words, and produces document feature vectors.\n",
    "\n"
   ]
  },
  {
   "cell_type": "markdown",
   "id": "9a28c890-8a71-41f2-8ce3-63f4516cc27f",
   "metadata": {},
   "source": [
    "## Methodology <a id=\"models\"></a>\n",
    "\n",
    "I use Python to explore the implementations of several classical ML algorithms. My implementation is inspired by [[1]](#ref-1).\n",
    "The dataset is [CSIC 2010](https://www.kaggle.com/datasets/ispangler/csic-2010-web-application-attacks), a public available and widely used set of labeled HTTP requests.\n",
    "\n",
    "#### Pre-processing & Vectorization\n",
    "\n",
    "There are many methods for vectorizing the request strings. I follow the strategy used in [[1]](#ref-1):\n",
    "1. Normalize the strings by replacing all SQL keywords with 'C' and other words with 'A', while keeping special characters as is\n",
    "2. Perform 2-gram analysis to generate counts of 2-grams and construct vectors.\n",
    "\n",
    "The authors did this in their dataset to anonymize personal information. Although we preserve the \"structure\" of the requests, normalizing the words risks losing some valuable information, but should be sufficient for catching prevalent attack types like SQL injections, and command injections which often use special characters to navigate file systems. It is a very simple method, so I start out with this.\n",
    "\n",
    "#### BIRCH Clustering\n",
    "\n",
    "Fundamentally, clustering attempts to solve the following problem: given a dataset of points (and optionally, the number of clusters), and a distance function, find a partition of the dataset that minimizes the distance function. It is an optimization problem and is often used in unsupervised learning. Early clustering methods involved comparing a new datapoint with all existing data points in order to determine whether to add the datapoint to an existing cluster. However, this scales poorly as the number of datapoints increases. The primary benefit of BIRCH for this project is it is well-suited for large datasets because it scales in a linear manner. \n",
    "\n",
    "It accomplishes this by summarizing each cluster with a feature vector: $(N, LS, SS)$, where $N$ is the number of data points, $LS$ is the linear sum, and $SS$ is the squared sum. Since cluster metrics like radius and Euclidean distance are based on those three values, it is sufficient to update and use only that feature vector. By incrementally updating the feature vector with every data point, the algorithm maintains linear complexity.\n",
    "\n",
    "Each cluster is a node in a tree. When a new datapoint is added, the algorithm traverses down the tree and uses the feature vector at each node to determine which cluster is closer to the datapoint. When it reaches a leaf, it determines whether to add the datapoint to the leaf cluster, or split the cluster, depending on the parameters. [[2]](#ref-2)\n",
    "\n",
    "The key parameters for the BIRCH algorithm are:\n",
    "- Branching Factor: the maximum number of subclusters (children) per node. A higher branching factor allows for a more complex and deep tree.\n",
    "- Threshold: the maximum radius of a cluster. Smaller thresholds create smaller, fine-grained clusters. \n",
    "\n",
    "#### One-class Support Vector Machine\n",
    "\n",
    "Anomaly detection is a specific case in classification, where there are two cases: normal and anomaly. We want to find a \"good\" boundary between normal and anomalous datapoints. OC-SVM does this by mapping feature vectors into a high-dimensional feature space. In this space, we expect normal datapoints to have many non-zero vector values because the vectors will be similar to the normal points and have smaller distance. On the other hand, anomalous datapoints should be closer to the origin, or in other words, have more values close to zero because they exhibit feature differences and should be further away from normal.\n",
    "\n",
    "The algorithm then solves an optimization problem to find the boundary which separates the normal features from the origin with maximum margin, as detailed in [[3]](#ref-3). In classification techniques like logistic regression, we want to find a linear boundary, but in many cases, the relationship is not linear. By mapping the vectors to a high-dimensional feature space, OC-SVM can transform non-linear relationships into linear ones.\n",
    "\n",
    "The key parameters for the OC-SVM algorithm are:\n",
    "- Nu: The proportion of outliers in the dataset.\n",
    "- Kernel: The type of mapping done from a feature vector to the feature space, i.e. linear, radial basis, polynomial.\n",
    "\n",
    "#### Random Forest\n",
    "\n",
    "Random forest is an ensemble learning model based on decision trees. Decision trees are classifiers which attempt to split features in such a way which can predict a target class. The splits are commonly determined using the information gain metric, which describes how well a feature can predict another feature. One challenge in building decision trees is overfitting: the decision tree can become too specialized during training such that is cannot handle the variations presented in test data.\n",
    "\n",
    "Random forests address this by introducing variation and randomness into the tree building process. Multiple decision trees are created with features randomly chosen at each step to split on. The classifications of the trees are then aggregated using a voting process to produce a final output. Since there are multiple trees which will make decisions based on different features, the goal is to make it less likely that some variation in a minority of features will cause incorrect classifications. \n",
    "\n",
    "The key parameters for Random Forest are:\n",
    "- Number of trees: increasing the number of classifiers will make the model more robust to an extent, but too many trees can add unnecessary computational complexity with minimum gains.\n",
    "- Number of randomly selected features [[4]](#ref-4)\n",
    "\n",
    "\n"
   ]
  },
  {
   "cell_type": "markdown",
   "id": "cbabdda1-87c4-4836-8b9e-6428b1d52fe2",
   "metadata": {},
   "source": [
    "## Implementation <a id=\"implement\"></a>"
   ]
  },
  {
   "cell_type": "markdown",
   "id": "038ade14-7e56-4f44-8281-8bbc20bbe3b3",
   "metadata": {},
   "source": [
    "### Imports <a id=\"implement_imports\"></a>"
   ]
  },
  {
   "cell_type": "code",
   "execution_count": 1,
   "id": "9645682e-a6cd-490f-b29a-8f8daabc2945",
   "metadata": {},
   "outputs": [],
   "source": [
    "from sklearn.cluster import Birch\n",
    "from sklearn.svm import OneClassSVM\n",
    "from sklearn.metrics import matthews_corrcoef\n",
    "from sklearn.ensemble import RandomForestClassifier\n",
    "from sklearn.decomposition import TruncatedSVD\n",
    "from sklearn.model_selection import train_test_split\n",
    "from sklearn.preprocessing import StandardScaler\n",
    "import numpy as np\n",
    "import matplotlib.pyplot as plt\n",
    "import pandas as pd\n",
    "import math\n",
    "pd.set_option('display.max_colwidth', 1000)\n",
    "import re\n",
    "from urllib.parse import unquote_plus, urlparse\n",
    "from gensim.models.doc2vec import Doc2Vec,TaggedDocument"
   ]
  },
  {
   "cell_type": "markdown",
   "id": "fd760000-415b-4034-9ddd-d5a1ac025d2a",
   "metadata": {},
   "source": [
    "### Constants <a id=\"implement_constants\"></a>"
   ]
  },
  {
   "cell_type": "code",
   "execution_count": 2,
   "id": "50f89264-6b00-4540-bde9-5ecd58505bef",
   "metadata": {},
   "outputs": [],
   "source": [
    "KEYWORDS = {\"ABORT\",\"ABS\",\"ABSOLUTE\",\"ACCESS\",\"ACTION\",\"ADA\",\"ADD\",\"ADMIN\",\"AFTER\",\"AGGREGATE\",\"ALIAS\",\"ALL\",\"ALLOCATE\",\"ALSO\",\"ALTER\",\"ALWAYS\",\"ANALYSE\",\"ANALYZE\",\"AND\",\"ANY\",\"ARE\",\"ARRAY\",\"AS\",\"ASC\",\"ASENSITIVE\",\"ASSERTION\",\"ASSIGNMENT\",\"ASYMMETRIC\",\"AT\",\"ATOMIC\",\"ATTRIBUTE\",\"ATTRIBUTES\",\"AUDIT\",\"AUTHORIZATION\",\"AUTO_INCREMENT\",\"AVG\",\"AVG_ROW_LENGTH\",\"BACKUP\",\"BACKWARD\",\"BEFORE\",\"BEGIN\",\"BERNOULLI\",\"BETWEEN\",\"BIGINT\",\"BINARY\",\"BIT\",\"BIT_LENGTH\",\"BITVAR\",\"BLOB\",\"BOOL\",\"BOOLEAN\",\"BOTH\",\"BREADTH\",\"BREAK\",\"BROWSE\",\"BULK\",\"BY\",\"CACHE\",\"CALL\",\"CALLED\",\"CARDINALITY\",\"CASCADE\",\"CASCADED\",\"CASE\",\"CAST\",\"CATALOG\",\"CATALOG_NAME\",\"CEIL\",\"CEILING\",\"CHAIN\",\"CHANGE\",\"CHAR\",\"CHAR_LENGTH\",\"CHARACTER\",\"CHARACTER_LENGTH\",\"CHARACTER_SET_CATALOG\",\"CHARACTER_SET_NAME\",\"CHARACTER_SET_SCHEMA\",\"CHARACTERISTICS\",\"CHARACTERS\",\"CHECK\",\"CHECKED\",\"CHECKPOINT\",\"CHECKSUM\",\"CLASS\",\"CLASS_ORIGIN\",\"CLOB\",\"CLOSE\",\"CLUSTER\",\"CLUSTERED\",\"COALESCE\",\"COBOL\",\"COLLATE\",\"COLLATION\",\"COLLATION_CATALOG\",\"COLLATION_NAME\",\"COLLATION_SCHEMA\",\"COLLECT\",\"COLUMN\",\"COLUMN_NAME\",\"COLUMNS\",\"COMMAND_FUNCTION\",\"COMMAND_FUNCTION_CODE\",\"COMMENT\",\"COMMIT\",\"COMMITTED\",\"COMPLETION\",\"COMPRESS\",\"COMPUTE\",\"CONDITION\",\"CONDITION_NUMBER\",\"CONNECT\",\"CONNECTION\",\"CONNECTION_NAME\",\"CONSTRAINT\",\"CONSTRAINT_CATALOG\",\"CONSTRAINT_NAME\",\"CONSTRAINT_SCHEMA\",\"CONSTRAINTS\",\"CONSTRUCTOR\",\"CONTAINS\",\"CONTAINSTABLE\",\"CONTINUE\",\"CONVERSION\",\"CONVERT\",\"COPY\",\"CORR\",\"CORRESPONDING\",\"COUNT\",\"COVAR_POP\",\"COVAR_SAMP\",\"CREATE\",\"CREATEDB\",\"CREATEROLE\",\"CREATEUSER\",\"CROSS\",\"CSV\",\"CUBE\",\"CUME_DIST\",\"CURRENT\",\"CURRENT_DATE\",\"CURRENT_DEFAULT_TRANSFORM_GROUP\",\"CURRENT_PATH\",\"CURRENT_ROLE\",\"CURRENT_TIME\",\"CURRENT_TIMESTAMP\",\"CURRENT_TRANSFORM_GROUP_FOR_TYPE\",\"CURRENT_USER\",\"CURSOR\",\"CURSOR_NAME\",\"CYCLE\",\"DATA\",\"DATABASE\",\"DATABASES\",\"DATE\",\"DATETIME\",\"DATETIME_INTERVAL_CODE\",\"DATETIME_INTERVAL_PRECISION\",\"DAY\",\"DAY_HOUR\",\"DAY_MICROSECOND\",\"DAY_MINUTE\",\"DAY_SECOND\",\"DAYOFMONTH\",\"DAYOFWEEK\",\"DAYOFYEAR\",\"DBCC\",\"DEALLOCATE\",\"DEC\",\"DECIMAL\",\"DECLARE\",\"DEFAULT\",\"DEFAULTS\",\"DEFERRABLE\",\"DEFERRED\",\"DEFINED\",\"DEFINER\",\"DEGREE\",\"DELAY_KEY_WRITE\",\"DELAYED\",\"DELETE\",\"DELIMITER\",\"DELIMITERS\",\"DENSE_RANK\",\"DENY\",\"DEPTH\",\"DEREF\",\"DERIVED\",\"DESC\",\"DESCRIBE\",\"DESCRIPTOR\",\"DESTROY\",\"DESTRUCTOR\",\"DETERMINISTIC\",\"DIAGNOSTICS\",\"DICTIONARY\",\"DISABLE\",\"DISCONNECT\",\"DISK\",\"DISPATCH\",\"DISTINCT\",\"DISTINCTROW\",\"DISTRIBUTED\",\"DIV\",\"DO\",\"DOMAIN\",\"DOUBLE\",\"DROP\",\"DUAL\",\"DUMMY\",\"DUMP\",\"DYNAMIC\",\"DYNAMIC_FUNCTION\",\"DYNAMIC_FUNCTION_CODE\",\"EACH\",\"ELEMENT\",\"ELSE\",\"ELSEIF\",\"ENABLE\",\"ENCLOSED\",\"ENCODING\",\"ENCRYPTED\",\"END\",\"END-EXEC\",\"ENUM\",\"EQUALS\",\"ERRLVL\",\"ESCAPE\",\"ESCAPED\",\"EVERY\",\"EXCEPT\",\"EXCEPTION\",\"EXCLUDE\",\"EXCLUDING\",\"EXCLUSIVE\",\"EXEC\",\"EXECUTE\",\"EXISTING\",\"EXISTS\",\"EXIT\",\"EXP\",\"EXPLAIN\",\"EXTERNAL\",\"EXTRACT\",\"FALSE\",\"FETCH\",\"FIELDS\",\"FILE\",\"FILLFACTOR\",\"FILTER\",\"FINAL\",\"FIRST\",\"FLOAT\",\"FLOAT4\",\"FLOAT8\",\"FLOOR\",\"FLUSH\",\"FOLLOWING\",\"FOR\",\"FORCE\",\"FOREIGN\",\"FORTRAN\",\"FORWARD\",\"FOUND\",\"FREE\",\"FREETEXT\",\"FREETEXTTABLE\",\"FREEZE\",\"FROM\",\"FULL\",\"FULLTEXT\",\"FUNCTION\",\"FUSION\",\"GENERAL\",\"GENERATED\",\"GET\",\"GLOBAL\",\"GO\",\"GOTO\",\"GRANT\",\"GRANTED\",\"GRANTS\",\"GREATEST\",\"GROUP\",\"GROUPING\",\"HANDLER\",\"HAVING\",\"HEADER\",\"HEAP\",\"HIERARCHY\",\"HIGH_PRIORITY\",\"HOLD\",\"HOLDLOCK\",\"HOST\",\"HOSTS\",\"HOUR\",\"HOUR_MICROSECOND\",\"HOUR_MINUTE\",\"HOUR_SECOND\",\"IDENTIFIED\",\"IDENTITY\",\"IDENTITY_INSERT\",\"IDENTITYCOL\",\"IF\",\"IGNORE\",\"ILIKE\",\"IMMEDIATE\",\"IMMUTABLE\",\"IMPLEMENTATION\",\"IMPLICIT\",\"IN\",\"INCLUDE\",\"INCLUDING\",\"INCREMENT\",\"INDEX\",\"INDICATOR\",\"INFILE\",\"INFIX\",\"INHERIT\",\"INHERITS\",\"INITIAL\",\"INITIALIZE\",\"INITIALLY\",\"INNER\",\"INOUT\",\"INPUT\",\"INSENSITIVE\",\"INSERT\",\"INSERT_ID\",\"INSTANCE\",\"INSTANTIABLE\",\"INSTEAD\",\"INT\",\"INT1\",\"INT2\",\"INT3\",\"INT4\",\"INT8\",\"INTEGER\",\"INTERSECT\",\"INTERSECTION\",\"INTERVAL\",\"INTO\",\"INVOKER\",\"IS\",\"ISAM\",\"ISNULL\",\"ISOLATION\",\"ITERATE\",\"JOIN\",\"KEY\",\"KEY_MEMBER\",\"KEY_TYPE\",\"KEYS\",\"KILL\",\"LANCOMPILER\",\"LANGUAGE\",\"LARGE\",\"LAST\",\"LAST_INSERT_ID\",\"LATERAL\",\"LEAD\",\"LEADING\",\"LEAST\",\"LEAVE\",\"LEFT\",\"LENGTH\",\"LESS\",\"LEVEL\",\"LIKE\",\"LIMIT\",\"LINENO\",\"LINES\",\"LISTEN\",\"LN\",\"LOAD\",\"LOCAL\",\"LOCALTIME\",\"LOCALTIMESTAMP\",\"LOCATION\",\"LOCATOR\",\"LOCK\",\"LOGIN\",\"LOGS\",\"LONG\",\"LONGBLOB\",\"LONGTEXT\",\"LOOP\",\"LOW_PRIORITY\",\"LOWER\",\"MAP\",\"MATCH\",\"MATCHED\",\"MAX\",\"MAX_ROWS\",\"MAXEXTENTS\",\"MAXVALUE\",\"MEDIUMBLOB\",\"MEDIUMINT\",\"MEDIUMTEXT\",\"MEMBER\",\"MERGE\",\"MESSAGE_LENGTH\",\"MESSAGE_OCTET_LENGTH\",\"MESSAGE_TEXT\",\"METHOD\",\"MIDDLEINT\",\"MIN\",\"MIN_ROWS\",\"MINUS\",\"MINUTE\",\"MINUTE_MICROSECOND\",\"MINUTE_SECOND\",\"MINVALUE\",\"MLSLABEL\",\"MOD\",\"MODE\",\"MODIFIES\",\"MODIFY\",\"MODULE\",\"MONTH\",\"MONTHNAME\",\"MORE\",\"MOVE\",\"MULTISET\",\"MUMPS\",\"MYISAM\",\"NAME\",\"NAMES\",\"NATIONAL\",\"NATURAL\",\"NCHAR\",\"NCLOB\",\"NESTING\",\"NEW\",\"NEXT\",\"NO\",\"NO_WRITE_TO_BINLOG\",\"NOAUDIT\",\"NOCHECK\",\"NOCOMPRESS\",\"NOCREATEDB\",\"NOCREATEROLE\",\"NOCREATEUSER\",\"NOINHERIT\",\"NOLOGIN\",\"NONCLUSTERED\",\"NONE\",\"NORMALIZE\",\"NORMALIZED\",\"NOSUPERUSER\",\"NOT\",\"NOTHING\",\"NOTIFY\",\"NOTNULL\",\"NOWAIT\",\"NULL\",\"NULLABLE\",\"NULLIF\",\"NULLS\",\"NUMBER\",\"NUMERIC\",\"OBJECT\",\"OCTET_LENGTH\",\"OCTETS\",\"OF\",\"OFF\",\"OFFLINE\",\"OFFSET\",\"OFFSETS\",\"OIDS\",\"OLD\",\"ON\",\"ONLINE\",\"ONLY\",\"OPEN\",\"OPENDATASOURCE\",\"OPENQUERY\",\"OPENROWSET\",\"OPENXML\",\"OPERATION\",\"OPERATOR\",\"OPTIMIZE\",\"OPTION\",\"OPTIONALLY\",\"OPTIONS\",\"OR\",\"ORDER\",\"ORDERING\",\"ORDINALITY\",\"OTHERS\",\"OUT\",\"OUTER\",\"OUTFILE\",\"OUTPUT\",\"OVER\",\"OVERLAPS\",\"OVERLAY\",\"OVERRIDING\",\"OWNER\",\"PACK_KEYS\",\"PAD\",\"PARAMETER\",\"PARAMETER_MODE\",\"PARAMETER_NAME\",\"PARAMETER_ORDINAL_POSITION\",\"PARAMETER_SPECIFIC_CATALOG\",\"PARAMETER_SPECIFIC_NAME\",\"PARAMETER_SPECIFIC_SCHEMA\",\"PARAMETERS\",\"PARTIAL\",\"PARTITION\",\"PASCAL\",\"PASSWORD\",\"PATH\",\"PCTFREE\",\"PERCENT\",\"PERCENT_RANK\",\"PERCENTILE_CONT\",\"PERCENTILE_DISC\",\"PLACING\",\"PLAN\",\"PLI\",\"POSITION\",\"POSTFIX\",\"POWER\",\"PRECEDING\",\"PRECISION\",\"PREFIX\",\"PREORDER\",\"PREPARE\",\"PREPARED\",\"PRESERVE\",\"PRIMARY\",\"PRINT\",\"PRIOR\",\"PRIVILEGES\",\"PROC\",\"PROCEDURAL\",\"PROCEDURE\",\"PROCESS\",\"PROCESSLIST\",\"PUBLIC\",\"PURGE\",\"QUOTE\",\"RAID0\",\"RAISERROR\",\"RANGE\",\"RANK\",\"RAW\",\"READ\",\"READS\",\"READTEXT\",\"REAL\",\"RECHECK\",\"RECONFIGURE\",\"RECURSIVE\",\"REF\",\"REFERENCES\",\"REFERENCING\",\"REGEXP\",\"REGR_AVGX\",\"REGR_AVGY\",\"REGR_COUNT\",\"REGR_INTERCEPT\",\"REGR_R2\",\"REGR_SLOPE\",\"REGR_SXX\",\"REGR_SXY\",\"REGR_SYY\",\"REINDEX\",\"RELATIVE\",\"RELEASE\",\"RELOAD\",\"RENAME\",\"REPEAT\",\"REPEATABLE\",\"REPLACE\",\"REPLICATION\",\"REQUIRE\",\"RESET\",\"RESIGNAL\",\"RESOURCE\",\"RESTART\",\"RESTORE\",\"RESTRICT\",\"RESULT\",\"RETURN\",\"RETURNED_CARDINALITY\",\"RETURNED_LENGTH\",\"RETURNED_OCTET_LENGTH\",\"RETURNED_SQLSTATE\",\"RETURNS\",\"REVOKE\",\"RIGHT\",\"RLIKE\",\"ROLE\",\"ROLLBACK\",\"ROLLUP\",\"ROUTINE\",\"ROUTINE_CATALOG\",\"ROUTINE_NAME\",\"ROUTINE_SCHEMA\",\"ROW\",\"ROW_COUNT\",\"ROW_NUMBER\",\"ROWCOUNT\",\"ROWGUIDCOL\",\"ROWID\",\"ROWNUM\",\"ROWS\",\"RULE\",\"SAVE\",\"SAVEPOINT\",\"SCALE\",\"SCHEMA\",\"SCHEMA_NAME\",\"SCHEMAS\",\"SCOPE\",\"SCOPE_CATALOG\",\"SCOPE_NAME\",\"SCOPE_SCHEMA\",\"SCROLL\",\"SEARCH\",\"SECOND\",\"SECOND_MICROSECOND\",\"SECTION\",\"SECURITY\",\"SELECT\",\"SELF\",\"SENSITIVE\",\"SEPARATOR\",\"SEQUENCE\",\"SERIALIZABLE\",\"SERVER_NAME\",\"SESSION\",\"SESSION_USER\",\"SET\",\"SETOF\",\"SETS\",\"SETUSER\",\"SHARE\",\"SHOW\",\"SHUTDOWN\",\"SIGNAL\",\"SIMILAR\",\"SIMPLE\",\"SIZE\",\"SMALLINT\",\"SOME\",\"SONAME\",\"SOURCE\",\"SPACE\",\"SPATIAL\",\"SPECIFIC\",\"SPECIFIC_NAME\",\"SPECIFICTYPE\",\"SQL\",\"SQL_BIG_RESULT\",\"SQL_BIG_SELECTS\",\"SQL_BIG_TABLES\",\"SQL_CALC_FOUND_ROWS\",\"SQL_LOG_OFF\",\"SQL_LOG_UPDATE\",\"SQL_LOW_PRIORITY_UPDATES\",\"SQL_SELECT_LIMIT\",\"SQL_SMALL_RESULT\",\"SQL_WARNINGS\",\"SQLCA\",\"SQLCODE\",\"SQLERROR\",\"SQLEXCEPTION\",\"SQLSTATE\",\"SQLWARNING\",\"SQRT\",\"SSL\",\"STABLE\",\"START\",\"STARTING\",\"STATE\",\"STATEMENT\",\"STATIC\",\"STATISTICS\",\"STATUS\",\"STDDEV_POP\",\"STDDEV_SAMP\",\"STDIN\",\"STDOUT\",\"STORAGE\",\"STRAIGHT_JOIN\",\"STRICT\",\"STRING\",\"STRUCTURE\",\"STYLE\",\"SUBCLASS_ORIGIN\",\"SUBLIST\",\"SUBMULTISET\",\"SUBSTRING\",\"SUCCESSFUL\",\"SUM\",\"SUPERUSER\",\"SYMMETRIC\",\"SYNONYM\",\"SYSDATE\",\"SYSID\",\"SYSTEM\",\"SYSTEM_USER\",\"TABLE\",\"TABLE_NAME\",\"TABLES\",\"TABLESAMPLE\",\"TABLESPACE\",\"TEMP\",\"TEMPLATE\",\"TEMPORARY\",\"TERMINATE\",\"TERMINATED\",\"TEXT\",\"TEXTSIZE\",\"THAN\",\"THEN\",\"TIES\",\"TIME\",\"TIMESTAMP\",\"TIMEZONE_HOUR\",\"TIMEZONE_MINUTE\",\"TINYBLOB\",\"TINYINT\",\"TINYTEXT\",\"TO\",\"TOAST\",\"TOP\",\"TOP_LEVEL_COUNT\",\"TRAILING\",\"TRAN\",\"TRANSACTION\",\"TRANSACTION_ACTIVE\",\"TRANSACTIONS_COMMITTED\",\"TRANSACTIONS_ROLLED_BACK\",\"TRANSFORM\",\"TRANSFORMS\",\"TRANSLATE\",\"TRANSLATION\",\"TREAT\",\"TRIGGER\",\"TRIGGER_CATALOG\",\"TRIGGER_NAME\",\"TRIGGER_SCHEMA\",\"TRIM\",\"TRUE\",\"TRUNCATE\",\"TRUSTED\",\"TSEQUAL\",\"TYPE\",\"UESCAPE\",\"UID\",\"UNBOUNDED\",\"UNCOMMITTED\",\"UNDER\",\"UNDO\",\"UNENCRYPTED\",\"UNION\",\"UNIQUE\",\"UNKNOWN\",\"UNLISTEN\",\"UNLOCK\",\"UNNAMED\",\"UNNEST\",\"UNSIGNED\",\"UNTIL\",\"UPDATE\",\"UPDATETEXT\",\"UPPER\",\"USAGE\",\"USE\",\"USER\",\"USER_DEFINED_TYPE_CATALOG\",\"USER_DEFINED_TYPE_CODE\",\"USER_DEFINED_TYPE_NAME\",\"USER_DEFINED_TYPE_SCHEMA\",\"USING\",\"UTC_DATE\",\"UTC_TIME\",\"UTC_TIMESTAMP\",\"VACUUM\",\"VALID\",\"VALIDATE\",\"VALIDATOR\",\"VALUE\",\"VALUES\",\"VAR_POP\",\"VAR_SAMP\",\"VARBINARY\",\"VARCHAR\",\"VARCHAR2\",\"VARCHARACTER\",\"VARIABLE\",\"VARIABLES\",\"VARYING\",\"VERBOSE\",\"VIEW\",\"VOLATILE\",\"WAITFOR\",\"WHEN\",\"WHENEVER\",\"WHERE\",\"WHILE\",\"WIDTH_BUCKET\",\"WINDOW\",\"WITH\",\"WITHIN\",\"WITHOUT\",\"WORK\",\"WRITE\",\"WRITETEXT\",\"X509\",\"XOR\",\"YEAR\",\"YEAR_MONTH\",\"ZEROFILL\",\"ZONE\"}\n",
    "KEYWORD_REPLACEMENT = 'C'\n",
    "keyword_pattern = r'\\b|'.join(map(re.escape, KEYWORDS))\n",
    "COLUMNS_TO_DROP = ['Type', 'Method', 'User-Agent', 'Pragma', 'Cache-Control', 'Accept', 'Accept-encoding', 'Accept-charset', 'language', 'host', 'cookie', 'content-type', 'connection', 'lenght']\n",
    "COLUMNS = [\"content\", \"URL\"]\n",
    "\n",
    "word_pattern = r'(?!' + keyword_pattern + r'\\b)\\b\\w+'"
   ]
  },
  {
   "cell_type": "markdown",
   "id": "6fb3a530-6ba3-48d4-8ed7-f48d40d8e388",
   "metadata": {},
   "source": [
    "### Pre-processing: Loading and Normalizing HTTP Payloads <a id=\"implement_loading\"></a>\n",
    "\n",
    "I am using a publicly available [dataset](https://www.kaggle.com/datasets/ispangler/csic-2010-web-application-attacks), which is a csv file containing various fields in HTTP requests, as well as its classification as a normal or malicious request.\n",
    "\n",
    "After analysis of the variations in the given features, I determine that the relevant features to use for analysis are the content and URL.\n",
    "\n",
    "For normalization, I follow the strategy presented in the paper: convert any SQL keyword to 'C' and any other word to 'A', leaving symbol characters as is."
   ]
  },
  {
   "cell_type": "code",
   "execution_count": 3,
   "id": "08e77f3b-11a7-4597-801e-a039c23763aa",
   "metadata": {},
   "outputs": [],
   "source": [
    "def normalize(text):\n",
    "    return re.sub(keyword_pattern, KEYWORD_REPLACEMENT, re.sub(word_pattern, 'A', text))\n",
    "\n",
    "raw_csv = pd.read_csv(r\"C:\\Users\\tomkm\\Desktop\\UCONN\\Spring 2025 Materials\\CSE 4099\\Implementation\\csic_database.csv\", quotechar='\"')\n",
    "df = raw_csv.drop(COLUMNS_TO_DROP, axis=1)\n",
    "for col in COLUMNS:\n",
    "    df[col] = [normalize('' if unquote_plus(str(text), encoding='cp1252') == 'nan' else unquote_plus(str(text), encoding='cp1252')) for text in df[col]]\n"
   ]
  },
  {
   "cell_type": "markdown",
   "id": "71fd8ac6-0a32-4671-b641-c1f864850db9",
   "metadata": {},
   "source": [
    "### Pre-processing: Vectorizing the Features <a id=\"implement_vectorizing\"></a>\n",
    "\n",
    "To perform clustering analysis, the data must be vectorized into numeric form. I follow the paper's strategy of using 2-gram analysis to generate vectors where each column represents the count of each possible 2-character sequence."
   ]
  },
  {
   "cell_type": "code",
   "execution_count": 4,
   "id": "6812a217-051a-43aa-b002-6b4b6d8fba49",
   "metadata": {},
   "outputs": [],
   "source": [
    "featuresdf = df.drop(['classification'], axis=1)\n",
    "char_set = set(''.join(featuresdf.astype(str).agg(''.join, axis=1)))\n",
    "# print(char_set)\n",
    "i = 0\n",
    "vector_mappings = {}\n",
    "for char1 in char_set:\n",
    "    for char2 in char_set:\n",
    "        vector_mappings[char1 + char2] = i\n",
    "        i += 1"
   ]
  },
  {
   "cell_type": "code",
   "execution_count": 5,
   "id": "64ca89e9-205b-4137-bcfb-f84ba730fd52",
   "metadata": {},
   "outputs": [],
   "source": [
    "def vectorize(s, mappings):\n",
    "    vector = [0] * len(mappings)\n",
    "    for i in range(1, len(s)):\n",
    "        vector[mappings[s[i - 1] + s[i]]] += 1\n",
    "    return vector\n",
    "\n",
    "def gen_column_names(orig_col, mappings):\n",
    "    cols = [\"\"] * len(mappings)\n",
    "    for chars, index in mappings.items():\n",
    "        cols[index] = orig_col + \" \" + chars\n",
    "    return cols\n",
    "\n",
    "for col in COLUMNS:\n",
    "    vectorized_df = featuresdf[col].apply(vectorize, args=(vector_mappings,)).apply(pd.Series)\n",
    "    vectorized_df.columns = gen_column_names(col, vector_mappings)\n",
    "    featuresdf = pd.concat([featuresdf, vectorized_df], axis=1)\n",
    "\n",
    "vectorized_df = featuresdf.drop(COLUMNS, axis=1)\n",
    "del(featuresdf)\n",
    "# print(vectorized_df)"
   ]
  },
  {
   "cell_type": "markdown",
   "id": "7d4882b1-2375-46f3-8371-2af490c8172a",
   "metadata": {},
   "source": [
    "### BIRCH Clustering <a id=\"implement_birch\"></a>\n",
    "\n",
    "I separate the dataset into training and test data and standardize the input. Then, I try using BIRCH with different number of clusters to analyze the reduction in distances to find a suitable number of clusters."
   ]
  },
  {
   "cell_type": "code",
   "execution_count": 48,
   "id": "fdbc2d4b-f8e2-49e8-94cf-e309ac43fc4a",
   "metadata": {},
   "outputs": [],
   "source": [
    "res = df['classification']\n",
    "inp_train, inp_test, res_train, res_test = train_test_split(\n",
    "    vectorized_df, res, test_size=0.2, stratify=res, random_state=42\n",
    ")"
   ]
  },
  {
   "cell_type": "code",
   "execution_count": 7,
   "id": "183886c3-a285-4384-a560-1cdfa92f783e",
   "metadata": {},
   "outputs": [],
   "source": [
    "scaler = StandardScaler()\n",
    "inp_train = scaler.fit_transform(inp_train)\n",
    "inp_test = scaler.fit_transform(inp_test)"
   ]
  },
  {
   "cell_type": "markdown",
   "id": "20273b51-c34d-41b3-9b05-6a566b944535",
   "metadata": {},
   "source": [
    "Testing number of Clusters (This takes a couple of minutes on my machine due to the sheer size of the dataset)"
   ]
  },
  {
   "cell_type": "code",
   "execution_count": 11,
   "id": "a4066440-a8b4-44f3-bbcd-14a0fa1a4250",
   "metadata": {},
   "outputs": [],
   "source": [
    "def birch_test_cluster_no(clusters_to_test, inp_train):\n",
    "    cluster_ssd = []\n",
    "    for n_cluster in clusters_to_test:\n",
    "        brc_train = Birch(n_clusters=n_cluster)\n",
    "        brc_train.fit(inp_train)\n",
    "        labels = brc_train.labels_\n",
    "        centers = np.array([inp_train[labels == i].mean(axis=0) for i in np.unique(labels)])\n",
    "        ssd = sum(np.linalg.norm(inp_train[labels == i] - center, axis=1).sum() for i, center in enumerate(centers))\n",
    "        cluster_ssd.append(ssd)\n",
    "    return cluster_ssd"
   ]
  },
  {
   "cell_type": "code",
   "execution_count": 9,
   "id": "137c20fa-f1f6-45bf-a1bb-342923ecb938",
   "metadata": {},
   "outputs": [],
   "source": [
    "clusters_to_test = np.arange(2, 103, 10, dtype=int)\n",
    "cluster_ssd = birch_test_cluster_no(clusters_to_test, inp_train)"
   ]
  },
  {
   "cell_type": "code",
   "execution_count": 10,
   "id": "f2b8794e-568f-4065-9794-b4de2b5440af",
   "metadata": {},
   "outputs": [
    {
     "data": {
      "image/png": "[encoded data removed]",
      "text/plain": [
       "<Figure size 640x480 with 1 Axes>"
      ]
     },
     "metadata": {},
     "output_type": "display_data"
    }
   ],
   "source": [
    "plt.plot(clusters_to_test, cluster_ssd)\n",
    "plt.title('SSD reduction per added cluster')\n",
    "plt.xlabel('Number of clusters')\n",
    "plt.ylabel('SSD') #within cluster sum of squares\n",
    "plt.show()"
   ]
  },
  {
   "cell_type": "markdown",
   "id": "a1b3cf17-c779-4bd8-b682-73afaf924ba3",
   "metadata": {},
   "source": [
    "### Dimensionality Reduction <a id=\"implement_svd\"></a>\n",
    "\n",
    "If we use the \"elbow\" method on the above graph where we find where the diminishing returns of more clusters begins, we get around 40 clusters. However, that is a lot of clusters which can make it challenging to draw meaningful conclusions from. One possible issue with this dataset is the large number of features: over 1400. A high number of dimensions can reduce the effectiveness of clustering because most datapoints will have very large distances from each other. One technique to mitigate this is dimensionality reduction. I try using TruncatedSVD which is effective for sparse datasets."
   ]
  },
  {
   "cell_type": "code",
   "execution_count": 11,
   "id": "82ef83aa-6e2e-479f-b31b-73819ce9df31",
   "metadata": {},
   "outputs": [
    {
     "data": {
      "text/html": [
       "<style>#sk-container-id-1 {\n",
       "  /* Definition of color scheme common for light and dark mode */\n",
       "  --sklearn-color-text: #000;\n",
       "  --sklearn-color-text-muted: #666;\n",
       "  --sklearn-color-line: gray;\n",
       "  /* Definition of color scheme for unfitted estimators */\n",
       "  --sklearn-color-unfitted-level-0: #fff5e6;\n",
       "  --sklearn-color-unfitted-level-1: #f6e4d2;\n",
       "  --sklearn-color-unfitted-level-2: #ffe0b3;\n",
       "  --sklearn-color-unfitted-level-3: chocolate;\n",
       "  /* Definition of color scheme for fitted estimators */\n",
       "  --sklearn-color-fitted-level-0: #f0f8ff;\n",
       "  --sklearn-color-fitted-level-1: #d4ebff;\n",
       "  --sklearn-color-fitted-level-2: #b3dbfd;\n",
       "  --sklearn-color-fitted-level-3: cornflowerblue;\n",
       "\n",
       "  /* Specific color for light theme */\n",
       "  --sklearn-color-text-on-default-background: var(--sg-text-color, var(--theme-code-foreground, var(--jp-content-font-color1, black)));\n",
       "  --sklearn-color-background: var(--sg-background-color, var(--theme-background, var(--jp-layout-color0, white)));\n",
       "  --sklearn-color-border-box: var(--sg-text-color, var(--theme-code-foreground, var(--jp-content-font-color1, black)));\n",
       "  --sklearn-color-icon: #696969;\n",
       "\n",
       "  @media (prefers-color-scheme: dark) {\n",
       "    /* Redefinition of color scheme for dark theme */\n",
       "    --sklearn-color-text-on-default-background: var(--sg-text-color, var(--theme-code-foreground, var(--jp-content-font-color1, white)));\n",
       "    --sklearn-color-background: var(--sg-background-color, var(--theme-background, var(--jp-layout-color0, #111)));\n",
       "    --sklearn-color-border-box: var(--sg-text-color, var(--theme-code-foreground, var(--jp-content-font-color1, white)));\n",
       "    --sklearn-color-icon: #878787;\n",
       "  }\n",
       "}\n",
       "\n",
       "#sk-container-id-1 {\n",
       "  color: var(--sklearn-color-text);\n",
       "}\n",
       "\n",
       "#sk-container-id-1 pre {\n",
       "  padding: 0;\n",
       "}\n",
       "\n",
       "#sk-container-id-1 input.sk-hidden--visually {\n",
       "  border: 0;\n",
       "  clip: rect(1px 1px 1px 1px);\n",
       "  clip: rect(1px, 1px, 1px, 1px);\n",
       "  height: 1px;\n",
       "  margin: -1px;\n",
       "  overflow: hidden;\n",
       "  padding: 0;\n",
       "  position: absolute;\n",
       "  width: 1px;\n",
       "}\n",
       "\n",
       "#sk-container-id-1 div.sk-dashed-wrapped {\n",
       "  border: 1px dashed var(--sklearn-color-line);\n",
       "  margin: 0 0.4em 0.5em 0.4em;\n",
       "  box-sizing: border-box;\n",
       "  padding-bottom: 0.4em;\n",
       "  background-color: var(--sklearn-color-background);\n",
       "}\n",
       "\n",
       "#sk-container-id-1 div.sk-container {\n",
       "  /* jupyter's `normalize.less` sets `[hidden] { display: none; }`\n",
       "     but bootstrap.min.css set `[hidden] { display: none !important; }`\n",
       "     so we also need the `!important` here to be able to override the\n",
       "     default hidden behavior on the sphinx rendered scikit-learn.org.\n",
       "     See: https://github.com/scikit-learn/scikit-learn/issues/21755 */\n",
       "  display: inline-block !important;\n",
       "  position: relative;\n",
       "}\n",
       "\n",
       "#sk-container-id-1 div.sk-text-repr-fallback {\n",
       "  display: none;\n",
       "}\n",
       "\n",
       "div.sk-parallel-item,\n",
       "div.sk-serial,\n",
       "div.sk-item {\n",
       "  /* draw centered vertical line to link estimators */\n",
       "  background-image: linear-gradient(var(--sklearn-color-text-on-default-background), var(--sklearn-color-text-on-default-background));\n",
       "  background-size: 2px 100%;\n",
       "  background-repeat: no-repeat;\n",
       "  background-position: center center;\n",
       "}\n",
       "\n",
       "/* Parallel-specific style estimator block */\n",
       "\n",
       "#sk-container-id-1 div.sk-parallel-item::after {\n",
       "  content: \"\";\n",
       "  width: 100%;\n",
       "  border-bottom: 2px solid var(--sklearn-color-text-on-default-background);\n",
       "  flex-grow: 1;\n",
       "}\n",
       "\n",
       "#sk-container-id-1 div.sk-parallel {\n",
       "  display: flex;\n",
       "  align-items: stretch;\n",
       "  justify-content: center;\n",
       "  background-color: var(--sklearn-color-background);\n",
       "  position: relative;\n",
       "}\n",
       "\n",
       "#sk-container-id-1 div.sk-parallel-item {\n",
       "  display: flex;\n",
       "  flex-direction: column;\n",
       "}\n",
       "\n",
       "#sk-container-id-1 div.sk-parallel-item:first-child::after {\n",
       "  align-self: flex-end;\n",
       "  width: 50%;\n",
       "}\n",
       "\n",
       "#sk-container-id-1 div.sk-parallel-item:last-child::after {\n",
       "  align-self: flex-start;\n",
       "  width: 50%;\n",
       "}\n",
       "\n",
       "#sk-container-id-1 div.sk-parallel-item:only-child::after {\n",
       "  width: 0;\n",
       "}\n",
       "\n",
       "/* Serial-specific style estimator block */\n",
       "\n",
       "#sk-container-id-1 div.sk-serial {\n",
       "  display: flex;\n",
       "  flex-direction: column;\n",
       "  align-items: center;\n",
       "  background-color: var(--sklearn-color-background);\n",
       "  padding-right: 1em;\n",
       "  padding-left: 1em;\n",
       "}\n",
       "\n",
       "\n",
       "/* Toggleable style: style used for estimator/Pipeline/ColumnTransformer box that is\n",
       "clickable and can be expanded/collapsed.\n",
       "- Pipeline and ColumnTransformer use this feature and define the default style\n",
       "- Estimators will overwrite some part of the style using the `sk-estimator` class\n",
       "*/\n",
       "\n",
       "/* Pipeline and ColumnTransformer style (default) */\n",
       "\n",
       "#sk-container-id-1 div.sk-toggleable {\n",
       "  /* Default theme specific background. It is overwritten whether we have a\n",
       "  specific estimator or a Pipeline/ColumnTransformer */\n",
       "  background-color: var(--sklearn-color-background);\n",
       "}\n",
       "\n",
       "/* Toggleable label */\n",
       "#sk-container-id-1 label.sk-toggleable__label {\n",
       "  cursor: pointer;\n",
       "  display: flex;\n",
       "  width: 100%;\n",
       "  margin-bottom: 0;\n",
       "  padding: 0.5em;\n",
       "  box-sizing: border-box;\n",
       "  text-align: center;\n",
       "  align-items: start;\n",
       "  justify-content: space-between;\n",
       "  gap: 0.5em;\n",
       "}\n",
       "\n",
       "#sk-container-id-1 label.sk-toggleable__label .caption {\n",
       "  font-size: 0.6rem;\n",
       "  font-weight: lighter;\n",
       "  color: var(--sklearn-color-text-muted);\n",
       "}\n",
       "\n",
       "#sk-container-id-1 label.sk-toggleable__label-arrow:before {\n",
       "  /* Arrow on the left of the label */\n",
       "  content: \"▸\";\n",
       "  float: left;\n",
       "  margin-right: 0.25em;\n",
       "  color: var(--sklearn-color-icon);\n",
       "}\n",
       "\n",
       "#sk-container-id-1 label.sk-toggleable__label-arrow:hover:before {\n",
       "  color: var(--sklearn-color-text);\n",
       "}\n",
       "\n",
       "/* Toggleable content - dropdown */\n",
       "\n",
       "#sk-container-id-1 div.sk-toggleable__content {\n",
       "  max-height: 0;\n",
       "  max-width: 0;\n",
       "  overflow: hidden;\n",
       "  text-align: left;\n",
       "  /* unfitted */\n",
       "  background-color: var(--sklearn-color-unfitted-level-0);\n",
       "}\n",
       "\n",
       "#sk-container-id-1 div.sk-toggleable__content.fitted {\n",
       "  /* fitted */\n",
       "  background-color: var(--sklearn-color-fitted-level-0);\n",
       "}\n",
       "\n",
       "#sk-container-id-1 div.sk-toggleable__content pre {\n",
       "  margin: 0.2em;\n",
       "  border-radius: 0.25em;\n",
       "  color: var(--sklearn-color-text);\n",
       "  /* unfitted */\n",
       "  background-color: var(--sklearn-color-unfitted-level-0);\n",
       "}\n",
       "\n",
       "#sk-container-id-1 div.sk-toggleable__content.fitted pre {\n",
       "  /* unfitted */\n",
       "  background-color: var(--sklearn-color-fitted-level-0);\n",
       "}\n",
       "\n",
       "#sk-container-id-1 input.sk-toggleable__control:checked~div.sk-toggleable__content {\n",
       "  /* Expand drop-down */\n",
       "  max-height: 200px;\n",
       "  max-width: 100%;\n",
       "  overflow: auto;\n",
       "}\n",
       "\n",
       "#sk-container-id-1 input.sk-toggleable__control:checked~label.sk-toggleable__label-arrow:before {\n",
       "  content: \"▾\";\n",
       "}\n",
       "\n",
       "/* Pipeline/ColumnTransformer-specific style */\n",
       "\n",
       "#sk-container-id-1 div.sk-label input.sk-toggleable__control:checked~label.sk-toggleable__label {\n",
       "  color: var(--sklearn-color-text);\n",
       "  background-color: var(--sklearn-color-unfitted-level-2);\n",
       "}\n",
       "\n",
       "#sk-container-id-1 div.sk-label.fitted input.sk-toggleable__control:checked~label.sk-toggleable__label {\n",
       "  background-color: var(--sklearn-color-fitted-level-2);\n",
       "}\n",
       "\n",
       "/* Estimator-specific style */\n",
       "\n",
       "/* Colorize estimator box */\n",
       "#sk-container-id-1 div.sk-estimator input.sk-toggleable__control:checked~label.sk-toggleable__label {\n",
       "  /* unfitted */\n",
       "  background-color: var(--sklearn-color-unfitted-level-2);\n",
       "}\n",
       "\n",
       "#sk-container-id-1 div.sk-estimator.fitted input.sk-toggleable__control:checked~label.sk-toggleable__label {\n",
       "  /* fitted */\n",
       "  background-color: var(--sklearn-color-fitted-level-2);\n",
       "}\n",
       "\n",
       "#sk-container-id-1 div.sk-label label.sk-toggleable__label,\n",
       "#sk-container-id-1 div.sk-label label {\n",
       "  /* The background is the default theme color */\n",
       "  color: var(--sklearn-color-text-on-default-background);\n",
       "}\n",
       "\n",
       "/* On hover, darken the color of the background */\n",
       "#sk-container-id-1 div.sk-label:hover label.sk-toggleable__label {\n",
       "  color: var(--sklearn-color-text);\n",
       "  background-color: var(--sklearn-color-unfitted-level-2);\n",
       "}\n",
       "\n",
       "/* Label box, darken color on hover, fitted */\n",
       "#sk-container-id-1 div.sk-label.fitted:hover label.sk-toggleable__label.fitted {\n",
       "  color: var(--sklearn-color-text);\n",
       "  background-color: var(--sklearn-color-fitted-level-2);\n",
       "}\n",
       "\n",
       "/* Estimator label */\n",
       "\n",
       "#sk-container-id-1 div.sk-label label {\n",
       "  font-family: monospace;\n",
       "  font-weight: bold;\n",
       "  display: inline-block;\n",
       "  line-height: 1.2em;\n",
       "}\n",
       "\n",
       "#sk-container-id-1 div.sk-label-container {\n",
       "  text-align: center;\n",
       "}\n",
       "\n",
       "/* Estimator-specific */\n",
       "#sk-container-id-1 div.sk-estimator {\n",
       "  font-family: monospace;\n",
       "  border: 1px dotted var(--sklearn-color-border-box);\n",
       "  border-radius: 0.25em;\n",
       "  box-sizing: border-box;\n",
       "  margin-bottom: 0.5em;\n",
       "  /* unfitted */\n",
       "  background-color: var(--sklearn-color-unfitted-level-0);\n",
       "}\n",
       "\n",
       "#sk-container-id-1 div.sk-estimator.fitted {\n",
       "  /* fitted */\n",
       "  background-color: var(--sklearn-color-fitted-level-0);\n",
       "}\n",
       "\n",
       "/* on hover */\n",
       "#sk-container-id-1 div.sk-estimator:hover {\n",
       "  /* unfitted */\n",
       "  background-color: var(--sklearn-color-unfitted-level-2);\n",
       "}\n",
       "\n",
       "#sk-container-id-1 div.sk-estimator.fitted:hover {\n",
       "  /* fitted */\n",
       "  background-color: var(--sklearn-color-fitted-level-2);\n",
       "}\n",
       "\n",
       "/* Specification for estimator info (e.g. \"i\" and \"?\") */\n",
       "\n",
       "/* Common style for \"i\" and \"?\" */\n",
       "\n",
       ".sk-estimator-doc-link,\n",
       "a:link.sk-estimator-doc-link,\n",
       "a:visited.sk-estimator-doc-link {\n",
       "  float: right;\n",
       "  font-size: smaller;\n",
       "  line-height: 1em;\n",
       "  font-family: monospace;\n",
       "  background-color: var(--sklearn-color-background);\n",
       "  border-radius: 1em;\n",
       "  height: 1em;\n",
       "  width: 1em;\n",
       "  text-decoration: none !important;\n",
       "  margin-left: 0.5em;\n",
       "  text-align: center;\n",
       "  /* unfitted */\n",
       "  border: var(--sklearn-color-unfitted-level-1) 1pt solid;\n",
       "  color: var(--sklearn-color-unfitted-level-1);\n",
       "}\n",
       "\n",
       ".sk-estimator-doc-link.fitted,\n",
       "a:link.sk-estimator-doc-link.fitted,\n",
       "a:visited.sk-estimator-doc-link.fitted {\n",
       "  /* fitted */\n",
       "  border: var(--sklearn-color-fitted-level-1) 1pt solid;\n",
       "  color: var(--sklearn-color-fitted-level-1);\n",
       "}\n",
       "\n",
       "/* On hover */\n",
       "div.sk-estimator:hover .sk-estimator-doc-link:hover,\n",
       ".sk-estimator-doc-link:hover,\n",
       "div.sk-label-container:hover .sk-estimator-doc-link:hover,\n",
       ".sk-estimator-doc-link:hover {\n",
       "  /* unfitted */\n",
       "  background-color: var(--sklearn-color-unfitted-level-3);\n",
       "  color: var(--sklearn-color-background);\n",
       "  text-decoration: none;\n",
       "}\n",
       "\n",
       "div.sk-estimator.fitted:hover .sk-estimator-doc-link.fitted:hover,\n",
       ".sk-estimator-doc-link.fitted:hover,\n",
       "div.sk-label-container:hover .sk-estimator-doc-link.fitted:hover,\n",
       ".sk-estimator-doc-link.fitted:hover {\n",
       "  /* fitted */\n",
       "  background-color: var(--sklearn-color-fitted-level-3);\n",
       "  color: var(--sklearn-color-background);\n",
       "  text-decoration: none;\n",
       "}\n",
       "\n",
       "/* Span, style for the box shown on hovering the info icon */\n",
       ".sk-estimator-doc-link span {\n",
       "  display: none;\n",
       "  z-index: 9999;\n",
       "  position: relative;\n",
       "  font-weight: normal;\n",
       "  right: .2ex;\n",
       "  padding: .5ex;\n",
       "  margin: .5ex;\n",
       "  width: min-content;\n",
       "  min-width: 20ex;\n",
       "  max-width: 50ex;\n",
       "  color: var(--sklearn-color-text);\n",
       "  box-shadow: 2pt 2pt 4pt #999;\n",
       "  /* unfitted */\n",
       "  background: var(--sklearn-color-unfitted-level-0);\n",
       "  border: .5pt solid var(--sklearn-color-unfitted-level-3);\n",
       "}\n",
       "\n",
       ".sk-estimator-doc-link.fitted span {\n",
       "  /* fitted */\n",
       "  background: var(--sklearn-color-fitted-level-0);\n",
       "  border: var(--sklearn-color-fitted-level-3);\n",
       "}\n",
       "\n",
       ".sk-estimator-doc-link:hover span {\n",
       "  display: block;\n",
       "}\n",
       "\n",
       "/* \"?\"-specific style due to the `<a>` HTML tag */\n",
       "\n",
       "#sk-container-id-1 a.estimator_doc_link {\n",
       "  float: right;\n",
       "  font-size: 1rem;\n",
       "  line-height: 1em;\n",
       "  font-family: monospace;\n",
       "  background-color: var(--sklearn-color-background);\n",
       "  border-radius: 1rem;\n",
       "  height: 1rem;\n",
       "  width: 1rem;\n",
       "  text-decoration: none;\n",
       "  /* unfitted */\n",
       "  color: var(--sklearn-color-unfitted-level-1);\n",
       "  border: var(--sklearn-color-unfitted-level-1) 1pt solid;\n",
       "}\n",
       "\n",
       "#sk-container-id-1 a.estimator_doc_link.fitted {\n",
       "  /* fitted */\n",
       "  border: var(--sklearn-color-fitted-level-1) 1pt solid;\n",
       "  color: var(--sklearn-color-fitted-level-1);\n",
       "}\n",
       "\n",
       "/* On hover */\n",
       "#sk-container-id-1 a.estimator_doc_link:hover {\n",
       "  /* unfitted */\n",
       "  background-color: var(--sklearn-color-unfitted-level-3);\n",
       "  color: var(--sklearn-color-background);\n",
       "  text-decoration: none;\n",
       "}\n",
       "\n",
       "#sk-container-id-1 a.estimator_doc_link.fitted:hover {\n",
       "  /* fitted */\n",
       "  background-color: var(--sklearn-color-fitted-level-3);\n",
       "}\n",
       "</style><div id=\"sk-container-id-1\" class=\"sk-top-container\"><div class=\"sk-text-repr-fallback\"><pre>TruncatedSVD(n_components=300)</pre><b>In a Jupyter environment, please rerun this cell to show the HTML representation or trust the notebook. <br />On GitHub, the HTML representation is unable to render, please try loading this page with nbviewer.org.</b></div><div class=\"sk-container\" hidden><div class=\"sk-item\"><div class=\"sk-estimator fitted sk-toggleable\"><input class=\"sk-toggleable__control sk-hidden--visually\" id=\"sk-estimator-id-1\" type=\"checkbox\" checked><label for=\"sk-estimator-id-1\" class=\"sk-toggleable__label fitted sk-toggleable__label-arrow\"><div><div>TruncatedSVD</div></div><div><a class=\"sk-estimator-doc-link fitted\" rel=\"noreferrer\" target=\"_blank\" href=\"https://scikit-learn.org/1.6/modules/generated/sklearn.decomposition.TruncatedSVD.html\">?<span>Documentation for TruncatedSVD</span></a><span class=\"sk-estimator-doc-link fitted\">i<span>Fitted</span></span></div></label><div class=\"sk-toggleable__content fitted\"><pre>TruncatedSVD(n_components=300)</pre></div> </div></div></div></div>"
      ],
      "text/plain": [
       "TruncatedSVD(n_components=300)"
      ]
     },
     "execution_count": 11,
     "metadata": {},
     "output_type": "execute_result"
    }
   ],
   "source": [
    "svd = TruncatedSVD(n_components = 300)\n",
    "svd.fit(inp_train)\n"
   ]
  },
  {
   "cell_type": "code",
   "execution_count": 12,
   "id": "a3d5209d-f60e-47d4-a8ee-b04b654d377e",
   "metadata": {},
   "outputs": [
    {
     "data": {
      "text/plain": [
       "Text(0, 0.5, 'Cumulative Explained Variance')"
      ]
     },
     "execution_count": 12,
     "metadata": {},
     "output_type": "execute_result"
    },
    {
     "data": {
      "image/png": "[encoded data removed]",
      "text/plain": [
       "<Figure size 2000x800 with 1 Axes>"
      ]
     },
     "metadata": {},
     "output_type": "display_data"
    }
   ],
   "source": [
    "plt.figure(figsize = (20,8))\n",
    "plt.plot(range(1,301), svd.explained_variance_ratio_.cumsum(), marker = 'o')\n",
    "plt.title('Explained Variance by Components')\n",
    "plt.xlabel('Number of Components')\n",
    "plt.ylabel('Cumulative Explained Variance')"
   ]
  },
  {
   "cell_type": "markdown",
   "id": "3bc9503e-1e87-4669-85f1-ec931d5097b7",
   "metadata": {},
   "source": [
    "Gains in explained variance start tapering off with around 200 dimensions and levels off at around 100% of explained variance, so I try reducing the input training set to 200 dimensions and cluster with BIRCH."
   ]
  },
  {
   "cell_type": "code",
   "execution_count": 13,
   "id": "8200f046-bb44-44f5-8ab9-a078816414e3",
   "metadata": {},
   "outputs": [],
   "source": [
    "svd = TruncatedSVD(n_components = 200)\n",
    "inp_train_reduced = svd.fit_transform(inp_train)\n",
    "inp_test_reduced = svd.transform(inp_test)"
   ]
  },
  {
   "cell_type": "code",
   "execution_count": 14,
   "id": "2dd0051e-6453-44f3-a4f1-8f343a960385",
   "metadata": {},
   "outputs": [],
   "source": [
    "clusters_to_test = np.arange(2, 103, 10, dtype=int)\n",
    "cluster_ssd = birch_test_cluster_no(clusters_to_test, inp_train_reduced)"
   ]
  },
  {
   "cell_type": "code",
   "execution_count": 15,
   "id": "9ee4a1a4-e532-4938-b46e-85c5d22d9344",
   "metadata": {},
   "outputs": [
    {
     "data": {
      "image/png": "[encoded data removed]",
      "text/plain": [
       "<Figure size 640x480 with 1 Axes>"
      ]
     },
     "metadata": {},
     "output_type": "display_data"
    }
   ],
   "source": [
    "plt.plot(clusters_to_test, cluster_ssd)\n",
    "plt.title('SSD reduction per added cluster')\n",
    "plt.xlabel('Number of clusters')\n",
    "plt.ylabel('SSD') #within cluster sum of squares\n",
    "plt.show()"
   ]
  },
  {
   "cell_type": "markdown",
   "id": "33706e66-4fe4-4099-b30a-444f9cca94a0",
   "metadata": {},
   "source": [
    "Now we see that ~30 clusters is the sweet spot. Let's try 30. I use the \"ground truth\" of the classification to evaluate whether the clusters are related to normal/malicious requests. For each cluster, we print the number of rows which were normal (0) and malicious (1)"
   ]
  },
  {
   "cell_type": "code",
   "execution_count": 16,
   "id": "2bc3ea40-ec17-465a-ae58-d55c750359bf",
   "metadata": {},
   "outputs": [],
   "source": [
    "brc_train = Birch(n_clusters=30)\n",
    "clusters = brc_train.fit_predict(inp_train_reduced)"
   ]
  },
  {
   "cell_type": "code",
   "execution_count": 17,
   "id": "005998c1-a2cd-485c-a455-786790ef0db5",
   "metadata": {},
   "outputs": [
    {
     "name": "stdout",
     "output_type": "stream",
     "text": [
      "[{0: 32, 1: 214}, {0: 27044, 1: 14815}, {0: 32, 1: 120}, {0: 1, 1: 70}, {0: 33, 1: 202}, {0: 14, 1: 72}, {0: 10, 1: 86}, {0: 0, 1: 436}, {0: 0, 1: 82}, {0: 0, 1: 133}, {0: 1533, 1: 2230}, {0: 0, 1: 209}, {0: 0, 1: 81}, {0: 29, 1: 118}, {0: 36, 1: 35}, {0: 0, 1: 78}, {0: 0, 1: 1}, {0: 0, 1: 1}, {0: 0, 1: 1}, {0: 0, 1: 432}, {0: 0, 1: 154}, {0: 0, 1: 78}, {0: 0, 1: 73}, {0: 0, 1: 81}, {0: 0, 1: 1}, {0: 0, 1: 1}, {0: 0, 1: 69}, {0: 0, 1: 77}, {0: 36, 1: 32}, {0: 0, 1: 70}]\n"
     ]
    }
   ],
   "source": [
    "# print(clusters)\n",
    "cluster_classification_counts = [{0: 0, 1: 0} for _ in range(30)]\n",
    "# cluster_classification_counts[0][0] += 1\n",
    "for i in range(len(clusters)):\n",
    "    cluster_classification_counts[clusters[i]][res_train.iloc[i]] += 1\n",
    "print(cluster_classification_counts)"
   ]
  },
  {
   "cell_type": "markdown",
   "id": "b962ba7b-1976-4f5c-92cc-d3c74ccd0603",
   "metadata": {},
   "source": [
    "### Exploring the clusters <a id=\"implement_cluster_explore\"></a>\n",
    "\n",
    "The above results are promising. There are three large clusters with a mix of 0s and 1s, but many of the clusters are predominately 1s, meaning that the clustering is pulling out meaningful patterns which can help us distinguish malicious requests. Let's look at some of the original requests in those clusters."
   ]
  },
  {
   "cell_type": "code",
   "execution_count": 24,
   "id": "cc86e36e-db51-4219-8dcc-ad016bac9f17",
   "metadata": {},
   "outputs": [
    {
     "name": "stdout",
     "output_type": "stream",
     "text": [
      "{0: 0, 1: 81}\n",
      "content                                                                                                                                                                                                                                                                                                                                                                                        NaN\n",
      "URL        http://localhost:8080/tienda1/publico/registro.jsp?modo=registro&login=haylock&password=zANgaRulL%D3N&nombre=Eleuterio&apellidos=Acevedo+Cantonati&email=kuzuoglu5%40nomao.iq&dni=43751597P&direccion=C%2F+Maria+Moliner+48+&ciudad=Ojos+Negros&cp=10160&provincia=Salamanca&ntc=0358024000873525bob%40%3CSCRipt%3Ealert%28Paros%29%3C%2FscrIPT%3E.parosproxy.org&B1=Registrar HTTP/1.1\n",
      "Name: 55806, dtype: object\n",
      "content                                                                                                                                                                                         NaN\n",
      "URL        http://localhost:8080/tienda1/publico/autenticar.jsp?modo=entrar&login=benefiel&pwd=duc9i89&remember=bob%40%3CSCRipt%3Ealert%28Paros%29%3C%2FscrIPT%3E.parosproxy.org&B1=Entrar HTTP/1.1\n",
      "Name: 61020, dtype: object\n",
      "content                                                                                                                                                                                            NaN\n",
      "URL        http://localhost:8080/tienda1/publico/autenticar.jsp?modo=entrar&login=bowden&pwd=mel-enerabob%40%3CSCRipt%3Ealert%28Paros%29%3C%2FscrIPT%3E.parosproxy.org&remember=off&B1=Entrar HTTP/1.1\n",
      "Name: 54425, dtype: object\n",
      "{0: 0, 1: 77}\n",
      "content    id=1%27%3B+DROP+TABLE+usuarios%3B+SELECT+*+FROM+datos+WHERE+nombre+LIKE+%27%25\n",
      "URL                    http://localhost:8080/tienda1/publico/caracteristicas.jsp HTTP/1.1\n",
      "Name: 45472, dtype: object\n",
      "content    modo=entrar&login=schlacht&pwd=43s8a&remember=off&B1=%27%3B+DROP+TABLE+usuarios%3B+SELECT+*+FROM+datos+WHERE+nombre+LIKE+%27%25\n",
      "URL                                                                          http://localhost:8080/tienda1/publico/autenticar.jsp HTTP/1.1\n",
      "Name: 55781, dtype: object\n",
      "content    modo=registro&login=linni&password=892444a9aci8&nombre=Rosario&apellidos=Bagudanc+Robles&email=haumann%40maxiwagen.tj&dni=%27%3B+DROP+TABLE+usuarios%3B+SELECT+*+FROM+datos+WHERE+nombre+LIKE+%27%25&direccion=C%2F+Santa+Beatriz+104%2C+8D&ciudad=Mingorr%EDa&cp=42173&provincia=Palencia&ntc=8723970834822268&B1=Registrar\n",
      "URL                                                                                                                                                                                                                                                                         http://localhost:8080/tienda1/publico/registro.jsp HTTP/1.1\n",
      "Name: 37398, dtype: object\n",
      "{0: 0, 1: 70}\n",
      "content      errorMsg=%22%3E%3C%21--%23EXEC+cmd%3D%22dir+%22--%3E%3C\n",
      "URL        http://localhost:8080/tienda1/publico/entrar.jsp HTTP/1.1\n",
      "Name: 36080, dtype: object\n",
      "content    modo=insertar%22%3E%3C%21--%23EXEC+cmd%3D%22dir+%22--%3E%3C&precio=8962&B1=Confirmar\n",
      "URL                                    http://localhost:8080/tienda1/publico/pagar.jsp HTTP/1.1\n",
      "Name: 37033, dtype: object\n",
      "content    modo=entrar&login=lutz&pwd=OpimA&remember=off%22%3E%3C%21--%23EXEC+cmd%3D%22dir+%22--%3E%3C&B1=Entrar\n",
      "URL                                                http://localhost:8080/tienda1/publico/autenticar.jsp HTTP/1.1\n",
      "Name: 37013, dtype: object\n"
     ]
    }
   ],
   "source": [
    "clusters_to_explore = [12, 27, 29]\n",
    "for cluster in clusters_to_explore:\n",
    "    print(cluster_classification_counts[cluster])\n",
    "    cnt = 0\n",
    "    for i in range(len(clusters)):\n",
    "        if clusters[i] == cluster:\n",
    "            cnt += 1\n",
    "            print(raw_csv.iloc[res_train.index[i]][COLUMNS])\n",
    "        if cnt == 3:\n",
    "            break"
   ]
  },
  {
   "cell_type": "markdown",
   "id": "5dd97148-dcd8-41b4-95d6-678d12c74056",
   "metadata": {},
   "source": [
    "The sampled requests in the first cluster have \"script\" injections in the URL, which is one form of malicious request. The second cluster has SQL injections, and the third cluster has Bash/Terminal related injections like \"EXEC cmd\". BIRCH is identifying different types of malicious requests."
   ]
  },
  {
   "cell_type": "markdown",
   "id": "9300624f-e5d7-4e83-8433-08cba5ca017f",
   "metadata": {},
   "source": [
    "The next step is to do the same with the test dataset to make sure that the model is robust and is not simply overfitting the training data."
   ]
  },
  {
   "cell_type": "code",
   "execution_count": 25,
   "id": "f01bbd8f-c018-4a69-8db1-3891877b9047",
   "metadata": {},
   "outputs": [],
   "source": [
    "clusters_test = brc_train.predict(inp_test_reduced)"
   ]
  },
  {
   "cell_type": "code",
   "execution_count": 26,
   "id": "0a897321-7683-4c24-be70-c796b5c71a69",
   "metadata": {},
   "outputs": [
    {
     "name": "stdout",
     "output_type": "stream",
     "text": [
      "[{0: 9, 1: 52}, {0: 6767, 1: 3669}, {0: 7, 1: 18}, {0: 0, 1: 23}, {0: 8, 1: 50}, {0: 1, 1: 32}, {0: 5, 1: 22}, {0: 0, 1: 109}, {0: 0, 1: 19}, {0: 0, 1: 33}, {0: 373, 1: 571}, {0: 0, 1: 64}, {0: 0, 1: 17}, {0: 10, 1: 27}, {0: 10, 1: 9}, {0: 0, 1: 20}, {0: 0, 1: 0}, {0: 0, 1: 0}, {0: 0, 1: 0}, {0: 0, 1: 113}, {0: 0, 1: 40}, {0: 0, 1: 15}, {0: 0, 1: 20}, {0: 0, 1: 14}, {0: 0, 1: 0}, {0: 0, 1: 0}, {0: 0, 1: 25}, {0: 0, 1: 24}, {0: 10, 1: 11}, {0: 0, 1: 16}]\n"
     ]
    }
   ],
   "source": [
    "cluster_classification_counts = [{0: 0, 1: 0} for _ in range(30)]\n",
    "# cluster_classification_counts[0][0] += 1\n",
    "for i in range(len(clusters_test)):\n",
    "    cluster_classification_counts[clusters_test[i]][res_test.iloc[i]] += 1\n",
    "print(cluster_classification_counts)"
   ]
  },
  {
   "cell_type": "markdown",
   "id": "b114e6b5-01a7-42ef-86cb-409a8defa939",
   "metadata": {},
   "source": [
    "We get similar results with the test dataset. Many clusters consist only of malicious requests. Next, let's implement classification alone before attempting to combine both."
   ]
  },
  {
   "cell_type": "markdown",
   "id": "f7264f5d-98d7-46c5-b70c-a042f877e49a",
   "metadata": {},
   "source": [
    "### Classification: oc-svm <a id=\"implement_ocsvm\"></a>\n",
    "\n",
    "I continue following along with the inspiration paper by implementing oc-svm, a classification algorithm that is specialized for anomaly detection. This algorithm assumes that the majority of real world data is normal. It is recommended that the training dataset be 1-5% anomalous. The dataset I am using has a large proportion of anomalous data, which is not likely in a real-world stream of requests.\n",
    "\n",
    "I randomly sample the anomalous requests to generate a 5% anamous dataset for oc-svm."
   ]
  },
  {
   "cell_type": "code",
   "execution_count": 5,
   "id": "ae7e7762-6166-4cf6-92be-a79ac9d608ab",
   "metadata": {},
   "outputs": [],
   "source": [
    "def gen_column_names(vec_size):\n",
    "    cols = [\"\"] * vec_size\n",
    "    for i in range(vec_size):\n",
    "        cols[i] = \"col\" + str(i)\n",
    "    return cols\n",
    "\n",
    "def gen_ocsvm_set(inp, res):\n",
    "    ocsvm_res = res.reset_index()['classification']\n",
    "    ocsvm_train = pd.DataFrame(inp, columns=gen_column_names(200))\n",
    "    ocsvm_train['classification'] = ocsvm_res\n",
    "    normal_df = ocsvm_train.loc[ocsvm_train['classification'] == 0]\n",
    "    anom_df = ocsvm_train.loc[ocsvm_train['classification'] == 1]\n",
    "    num_anom = math.floor(normal_df.shape[0] * 0.05 / 0.95)\n",
    "    anom_df = anom_df.sample(n = num_anom)\n",
    "    ocsvm_df = pd.concat([normal_df, anom_df], axis=0)\n",
    "    ocsvm_inp = ocsvm_df.drop(columns=['classification'])\n",
    "    ocsvm_res = ocsvm_df['classification']\n",
    "    return ocsvm_inp, ocsvm_res"
   ]
  },
  {
   "cell_type": "code",
   "execution_count": null,
   "id": "a4522ee8-4f26-465e-963f-b803e0b52fc6",
   "metadata": {},
   "outputs": [],
   "source": [
    "ocsvm_inp_train, ocsvm_res_train = gen_ocsvm_set(inp_train_reduced, res_train)\n",
    "ocsvm_inp_test, ocsvm_res_test = gen_ocsvm_set(inp_test_reduced, res_test)"
   ]
  },
  {
   "cell_type": "markdown",
   "id": "c17c8cf4-1c31-4730-9d74-06e6b168a1ac",
   "metadata": {},
   "source": [
    "The paramter nu represents the expected proportion of anomies, in this case, 0.05. I tune the model by adjusting gamma and finding the highest Matthews Correlation Coefficient. I use this metric because it is robust at handling unbalanced datasets."
   ]
  },
  {
   "cell_type": "code",
   "execution_count": 30,
   "id": "407166f0-901e-46b8-9a6c-0a46f55a305f",
   "metadata": {},
   "outputs": [
    {
     "name": "stdout",
     "output_type": "stream",
     "text": [
      "0.05 0.45198304916234655\n"
     ]
    }
   ],
   "source": [
    "best_gamma = 0.001\n",
    "best_mcc_score = 0\n",
    "gammas = [0.001, 0.005, 0.01, 0.05, 0.1, 0.5]\n",
    "for gamma in gammas:\n",
    "    clf_svm = OneClassSVM(gamma=gamma, nu=0.05)\n",
    "    clf_svm.fit(ocsvm_inp_train)\n",
    "    ocsvm_predict = pd.Series(clf_svm.predict(ocsvm_inp_test)).replace([-1,1],[1,0])\n",
    "    curr_mcc = matthews_corrcoef(y_true=ocsvm_res_test, y_pred=ocsvm_predict)\n",
    "    if curr_mcc > best_mcc_score:\n",
    "        best_gamma = gamma\n",
    "        best_mcc_score = curr_mcc\n",
    "print(best_gamma, best_mcc_score)"
   ]
  },
  {
   "cell_type": "markdown",
   "id": "dd31ef16-7737-4a7c-929a-afce74c3d662",
   "metadata": {},
   "source": [
    "The MCC score is around 0.45, which is pretty good, but not too impressive. This is consistent with the simulation findings in the paper, because over 100,000 datapoints were needed to get F-scores near 0.8. With only ~30,000 in this oc-svm training set. More data will likely improve the model."
   ]
  },
  {
   "cell_type": "markdown",
   "id": "16bfc1bb-ccd6-45b7-991e-fb954716ff12",
   "metadata": {},
   "source": [
    "### Classification: Random Forest <a id=\"implement_random_forest\"></a>\n",
    "\n",
    "oc-svm is an unsupervised model, so I try a supervised classifier as well. The random forest classification model is a robust model that is applicable in most scenarios. I try tuning the number of estimators and compare. (This runs for a couple of minutes on my machine.)"
   ]
  },
  {
   "cell_type": "code",
   "execution_count": 46,
   "id": "ba7136ed-eed7-409a-9780-69b74edf2882",
   "metadata": {},
   "outputs": [
    {
     "name": "stdout",
     "output_type": "stream",
     "text": [
      "50 0.3671865105965593\n"
     ]
    }
   ],
   "source": [
    "n_estimators = [10, 50, 100, 500, 1000]\n",
    "best_mcc_score = 0\n",
    "best_n_estimator = 10\n",
    "for n_estimator in n_estimators:\n",
    "    classifier = RandomForestClassifier(n_estimators=n_estimator, random_state=42)\n",
    "    classifier.fit(ocsvm_inp_train, ocsvm_res_train)\n",
    "    cl_res_pred = classifier.predict(ocsvm_inp_test)\n",
    "    curr_mcc = matthews_corrcoef(y_true=ocsvm_res_test, y_pred=cl_res_pred)\n",
    "    if curr_mcc > best_mcc_score:\n",
    "        best_n_estimator = n_estimator\n",
    "        best_mcc_score = curr_mcc\n",
    "print(best_n_estimator, best_mcc_score)"
   ]
  },
  {
   "cell_type": "markdown",
   "id": "6b53afe8-0211-4e7c-8410-68b02a62e4db",
   "metadata": {},
   "source": [
    "This time, MCC score is slightly lower. oc-svm is the better classifier in this case, which makes sense as it is specifically designed for anomaly detection in unbalanced datasets."
   ]
  },
  {
   "cell_type": "markdown",
   "id": "d732444d-6dec-4a38-8ad5-22d16f24a2e6",
   "metadata": {},
   "source": [
    "### Examining areas of improvement <a id=\"implement_improvement\"></a>\n",
    "\n",
    "I look at some of the HTTP requests which the models did not provide the desired result for. This can give ideas for how to change the process and improve results. I examine the clustering results: there was one very large cluster where the majority of normal and anomalous requests were located."
   ]
  },
  {
   "cell_type": "code",
   "execution_count": 49,
   "id": "c6f2187e-e31f-405c-8e33-90f90c9554cc",
   "metadata": {},
   "outputs": [
    {
     "name": "stdout",
     "output_type": "stream",
     "text": [
      "{0: 6767, 1: 3669}\n",
      "content                                                                 idA=2\n",
      "URL        http://localhost:8080/tienda1/publico/caracteristicas.jsp HTTP/1.1\n",
      "Name: 51869, dtype: object\n",
      "content                      A=A\n",
      "URL        A://A:A/A/A/A.A A/A.A\n",
      "Name: 51869, dtype: object\n",
      "\n",
      "content                                                                 idA=2\n",
      "URL        http://localhost:8080/tienda1/publico/caracteristicas.jsp HTTP/1.1\n",
      "Name: 48093, dtype: object\n",
      "content                      A=A\n",
      "URL        A://A:A/A/A/A.A A/A.A\n",
      "Name: 48093, dtype: object\n",
      "\n",
      "content                                                                                  NaN\n",
      "URL        http://localhost:8080/tienda1/global/estilos.css/6909030637832563290.jsp HTTP/1.1\n",
      "Name: 54462, dtype: object\n",
      "content                             \n",
      "URL        A://A:A/A/A/A.A/A.A A/A.A\n",
      "Name: 54462, dtype: object\n",
      "\n",
      "content                                                                         NaN\n",
      "URL        http://localhost:8080/tienda1/publico/caracteristicas.jsp?idA=2 HTTP/1.1\n",
      "Name: 38427, dtype: object\n",
      "content                             \n",
      "URL        A://A:A/A/A/A.A?A=A A/A.A\n",
      "Name: 38427, dtype: object\n",
      "\n",
      "content    id=2&nombre=Vino+Rioja&precio=39&cantidadA=26&B1=A%F1adir+al+carrito\n",
      "URL                   http://localhost:8080/tienda1/publico/anadir.jsp HTTP/1.1\n",
      "Name: 45363, dtype: object\n",
      "content    A=A&A=A A&A=A&A=A&A=A A A\n",
      "URL            A://A:A/A/A/A.A A/A.A\n",
      "Name: 45363, dtype: object\n",
      "\n",
      "content                                                                                                                                                                                                                                                                                                                                                          NaN\n",
      "URL        http://localhost:8080/tienda1/publico/registro.jsp?modo=registro&login=mullinix&password=portadguero&nombre=Nanda&apellidos=Santagata+Pillajo&email=wakasa%40miami-beach.gf&dni=44636251J&direccion=C%2F+Perro+De+San+Cecilio%2C+197+11%3FA&ciudad=Cerro+de+And%E9valo%2C+El&cp=19275&provincia=Guadalaja%2Fra&ntc=5604259372572557&B1=Registrar HTTP/1.1\n",
      "Name: 55318, dtype: object\n",
      "content                                                                                                              \n",
      "URL        A://A:A/A/A/A.A?A=A&A=A&A=A&A=A&A=A A&A=A@A-A.A&A=A&A=A/ A A A A, A A?A&A=A A A, A&A=A&A=A/A&A=A&A=A A/A.A\n",
      "Name: 55318, dtype: object\n",
      "\n",
      "content    id=1&nombre=Queso+Manchego&precio=39%2F&cantidad=37&B1=A%F1adir+al+carrito\n",
      "URL                         http://localhost:8080/tienda1/publico/anadir.jsp HTTP/1.1\n",
      "Name: 50676, dtype: object\n",
      "content    A=A&A=A A&A=A/&A=A&A=A A A\n",
      "URL             A://A:A/A/A/A.A A/A.A\n",
      "Name: 50676, dtype: object\n",
      "\n",
      "content    modo=entrar&login=trevor&pwd=In67488&remember=off%2F&B1=Entrar\n",
      "URL         http://localhost:8080/tienda1/publico/autenticar.jsp HTTP/1.1\n",
      "Name: 47882, dtype: object\n",
      "content     A=A&A=A&A=A&A=A/&A=A\n",
      "URL        A://A:A/A/A/A.A A/A.A\n",
      "Name: 47882, dtype: object\n",
      "\n",
      "content                                                                                                                                                                          NaN\n",
      "URL        http://localhost:8080/tienda1/publico/pagar.jsp?modo=insertar%27%3B+DROP+TABLE+usuarios%3B+SELECT+*+FROM+datos+WHERE+nombre+LIKE+%27%25&precio=7191&B1=Confirmar HTTP/1.1\n",
      "Name: 51763, dtype: object\n",
      "content                                                               \n",
      "URL        A://A:A/A/A/A.A?A=A'; C C A; C * C A C A C '%&A=A&A=A A/A.A\n",
      "Name: 51763, dtype: object\n",
      "\n",
      "content    modo=entrar&login=*lou*hell%3Fe&pwd=4up493a562i5&remember=on&B1=Entrar\n",
      "URL                 http://localhost:8080/tienda1/publico/autenticar.jsp HTTP/1.1\n",
      "Name: 43216, dtype: object\n",
      "content    A=A&A=*A*A?A&A=A&A=A&A=A\n",
      "URL           A://A:A/A/A/A.A A/A.A\n",
      "Name: 43216, dtype: object\n",
      "\n"
     ]
    }
   ],
   "source": [
    "cluster = 1\n",
    "print(cluster_classification_counts[cluster])\n",
    "cnt = 0\n",
    "for i in range(len(clusters)):\n",
    "    if clusters[i] == cluster and res_test.iloc[i] == 1:\n",
    "        cnt += 1\n",
    "        print(raw_csv.iloc[res_test.index[i]][COLUMNS])\n",
    "        print(df.iloc[res_test.index[i]][COLUMNS])\n",
    "        print()\n",
    "    if cnt == 10:\n",
    "        break"
   ]
  },
  {
   "cell_type": "markdown",
   "id": "70b4cba4-8f17-4e88-b18b-42de7061b46d",
   "metadata": {},
   "source": [
    "By looking at the \"unclustered\" requests, we see some limitations of the vectorization and normalization. The first two anomalous requests are labeled that way because instead of the paramater id=2, it contains the parameter idA=2. However, this is an application-specific classification, meaning that for requests like this to be recognized, models either need to be trained on normal data specifically from the application/server where it will operate, or it may generate many false positives. The normalization turns all parameters into A, so these anomalous requests are indistinguishable.\n",
    "\n",
    "Invalid parameters in HTTP requests are certainly unexpected, particularly for websites, but they are probably less dangerous than other attacks like SQL injections, as a well-designed application should ignore those invalid parameters. That being said, one possible approach I can think of to catch these would be to expand the n-gram analysis to include all letters, and only normalize the SQL keywords. Then, if the 'dA' in idA=2 is classified as anomalous multiple times, this can aid the model in distinguishing this type. But if there are only a few instances of this, or if there are other variations like idB=2, idC=2, etc. then how can the model distinguish this from normal requests which may contain similar 2-grams?\n",
    "\n",
    "A better approach in an application-specific scenario would be to make a list of valid parameters, and normalize those along with SQL keywords. Then, if there is a string contains \"!A=2\", where \"!\" is a valid parameter, then this is more obviously anomalous as requests should be normalized in a form \"!=2&!=pass\"."
   ]
  },
  {
   "cell_type": "markdown",
   "id": "66e75e51",
   "metadata": {},
   "source": [
    "### Implementing More Detailed Vectorization <a id=\"implement_vectorizing_detailed\"></a>\n",
    "\n",
    "I use a more robust vectorizing strategy this time to take into account all of the \"words\". I follow the strategy used in [[8]](#ref-8) by using the doc2vec algorithm. I generate tokens by splitting along the '&' and '=' characters to generate parameter pairs."
   ]
  },
  {
   "cell_type": "code",
   "execution_count": 2,
   "id": "35db8944-1115-4482-b610-28ed0c36e104",
   "metadata": {},
   "outputs": [],
   "source": [
    "raw_csv = pd.read_csv(r\"C:\\Users\\tomkm\\Desktop\\UCONN\\Spring 2025 Materials\\CSE 4099\\Implementation\\csic_database.csv\", quotechar='\"')\n",
    "\n",
    "def get_query_from_url(url):\n",
    "    return urlparse(url).query\n",
    "\n",
    "def doc2vec_preprocess(params):\n",
    "    decoded = unquote_plus(str(params), encoding='cp1252')\n",
    "    if decoded == \"nan\":\n",
    "        return \"\"\n",
    "    while str(params) != decoded:\n",
    "        params = decoded\n",
    "        decoded = unquote_plus(params, encoding='cp1252')\n",
    "    processed = decoded.replace(\" HTTP/1.1\", \"\")\n",
    "    return processed\n",
    "    \n",
    "def tokenize(param_str):\n",
    "    tokens = []\n",
    "    pairs = param_str.split('&')\n",
    "    for pair in pairs:\n",
    "        if '=' in pair:\n",
    "            key, value = pair.split('=', 1)\n",
    "            tokens.append(key.lower())\n",
    "            for token in re.split(r'\\W+', value.lower()):\n",
    "                if token:\n",
    "                    tokens.append(token)\n",
    "    return tokens\n",
    "\n",
    "raw_csv['URLparams'] = raw_csv['URL'].apply(get_query_from_url)\n",
    "raw_csv['content'] = raw_csv['content'].apply(doc2vec_preprocess)\n",
    "raw_csv['URLparams'] = raw_csv['URLparams'].apply(doc2vec_preprocess)\n",
    "\n",
    "raw_csv['document'] = raw_csv['content'] + raw_csv['URLparams']\n",
    "documents_df = raw_csv.loc[~(raw_csv['document'] == \"\")][['document', 'classification']]\n",
    "documents = list(documents_df['document'])"
   ]
  },
  {
   "cell_type": "code",
   "execution_count": 3,
   "id": "ed08e7ad-63f0-4a36-a375-b5184e807ea7",
   "metadata": {},
   "outputs": [],
   "source": [
    "tagged_data = [TaggedDocument(words=tokenize(p), tags=[str(i)]) for i, p in enumerate(documents)]\n",
    "\n",
    "model = Doc2Vec(\n",
    "    vector_size=200,\n",
    "    window=15,\n",
    "    dm=0,                          \n",
    "    epochs=50,            \n",
    "    workers=4,                \n",
    ")\n",
    "model.build_vocab(tagged_data)\n",
    "model.train(tagged_data,\n",
    "            total_examples=model.corpus_count,\n",
    "            epochs=model.epochs)\n"
   ]
  },
  {
   "cell_type": "markdown",
   "id": "1904e6d4-9b10-489e-bd8b-4b503d3db7a1",
   "metadata": {},
   "source": [
    "I follow along the same steps I did previously, splitting into test and train data, and then standardizing."
   ]
  },
  {
   "cell_type": "code",
   "execution_count": 6,
   "id": "cbcdd7e1-5712-47ec-9b7f-737534907369",
   "metadata": {},
   "outputs": [],
   "source": [
    "document_vectors = [model.infer_vector(tokenize(doc)) for doc in documents]\n",
    "documents_df['doc_vec'] = document_vectors\n",
    "res = documents_df['classification']\n",
    "# print(documents_df['doc_vec'])\n",
    "inp_df = pd.DataFrame(documents_df['doc_vec'].tolist(), columns=gen_column_names(200))\n",
    "# print(inp_df)\n",
    "inp_train, inp_test, res_train, res_test = train_test_split(\n",
    "    inp_df, res, test_size=0.2, stratify=res, random_state=42\n",
    ")\n",
    "scaler = StandardScaler()\n",
    "inp_train = scaler.fit_transform(inp_train)\n",
    "inp_test = scaler.fit_transform(inp_test)"
   ]
  },
  {
   "cell_type": "markdown",
   "id": "13060eab-7163-4e13-b8fb-a4899670d33d",
   "metadata": {},
   "source": [
    "#### Retrying BIRCH Clustering\n",
    "I test different numbers of clusters (this also took a couple of minutes to run)"
   ]
  },
  {
   "cell_type": "code",
   "execution_count": 12,
   "id": "fa3084d8-8e96-4286-b99f-b36e5f5e67fb",
   "metadata": {},
   "outputs": [
    {
     "data": {
      "image/png": "[encoded data removed]",
      "text/plain": [
       "<Figure size 640x480 with 1 Axes>"
      ]
     },
     "metadata": {},
     "output_type": "display_data"
    }
   ],
   "source": [
    "clusters_to_test = np.arange(2, 103, 10, dtype=int)\n",
    "cluster_ssd = birch_test_cluster_no(clusters_to_test, inp_train)\n",
    "plt.plot(clusters_to_test, cluster_ssd)\n",
    "plt.title('SSD reduction per added cluster')\n",
    "plt.xlabel('Number of clusters')\n",
    "plt.ylabel('SSD') #within cluster sum of squares\n",
    "plt.show()"
   ]
  },
  {
   "cell_type": "code",
   "execution_count": 13,
   "id": "5b22c38a-846f-41ee-b2c6-fa70bc6a16df",
   "metadata": {},
   "outputs": [
    {
     "name": "stdout",
     "output_type": "stream",
     "text": [
      "[{0: 308, 1: 396}, {0: 0, 1: 375}, {0: 1586, 1: 1858}, {0: 0, 1: 267}, {0: 2531, 1: 669}, {0: 59, 1: 179}, {0: 26, 1: 428}, {0: 1580, 1: 582}, {0: 0, 1: 334}, {0: 0, 1: 710}, {0: 0, 1: 165}, {0: 0, 1: 174}, {0: 3, 1: 340}, {0: 0, 1: 137}, {0: 0, 1: 136}, {0: 1606, 1: 1697}, {0: 258, 1: 268}, {0: 810, 1: 1006}, {0: 0, 1: 286}, {0: 0, 1: 317}, {0: 0, 1: 631}, {0: 1587, 1: 915}, {0: 792, 1: 757}, {0: 0, 1: 220}, {0: 6, 1: 176}, {0: 2, 1: 218}, {0: 61, 1: 254}, {0: 0, 1: 536}, {0: 0, 1: 734}, {0: 1585, 1: 903}]\n"
     ]
    }
   ],
   "source": [
    "brc_train = Birch(n_clusters=30)\n",
    "clusters = brc_train.fit_predict(inp_train)\n",
    "cluster_classification_counts = [{0: 0, 1: 0} for _ in range(30)]\n",
    "for i in range(len(clusters)):\n",
    "    cluster_classification_counts[clusters[i]][res_train.iloc[i]] += 1\n",
    "print(cluster_classification_counts)"
   ]
  },
  {
   "cell_type": "markdown",
   "id": "419348f6-75ae-4936-891d-256cd0a0e08c",
   "metadata": {},
   "source": [
    "We get mixed results. With the n-gram analysis, we got many clusters of only anomalous, but a few huge clusters where the majority of datapoints landed. Here, we get more evenly distributed clusters, with some being overwhelmingly anomalous, but most of the clusters are not \"pure.\""
   ]
  },
  {
   "cell_type": "code",
   "execution_count": 18,
   "id": "69cdd0e3-40ca-46dc-a177-a35ae97497a9",
   "metadata": {},
   "outputs": [
    {
     "name": "stdout",
     "output_type": "stream",
     "text": [
      "{0: 1606, 1: 1697}\n",
      "modo=entrar&login=croiseti&pwd=c?idiana&remember=off&B1=Entrar\n",
      "modo=entrar@40&login=blann&pwd=brear&remember=off&B1=Entrar\n",
      "modo=entrar&login=heinonen&pwd=S Oso&rememberA=on&B1=Entrar\n",
      "{0: 258, 1: 268}\n",
      "modo=registro&login=vasiliad&password=tiQU73M77UiS&nombre=Virma&apellidos=Catolino Florensa&emailA=ridges@fotoseroticas.com.cx&dni=67499126Z&direccion=Plza. Mayor, 166, &ciudad=Camariñas&cp=26240&provincia=Almería&ntc=4709387607686346&B1=Registrar\n",
      "modo=registro&login=huong&password=acoMbar&nombre=Macedonio&apellidos=Breceda Perdigó&email=nishio@granbretana.com.ml&dni=18995930T&direccion=Estaño, 92 4?C&ciudad=Narros de Saldueña&cp=49626&provincia=Guipúzcoa&ntc=1818801431707826&B1=Registrar\n",
      "modo=' AND '1'='1&login=cinderel&password=rel igionario&nombre=Kenneth&apellidos=Hijodalgo Formiga&email=gil-botelho@miami-beach.com.info&dni=81551229Z&direccion=El Arquero, 143, 1?D&ciudad=Amurrio&cp=37170&provincia=Segovia&ntc=8326601768414043&B1=Registrar\n"
     ]
    }
   ],
   "source": [
    "clusters_to_explore = [15,16]\n",
    "for cluster in clusters_to_explore:\n",
    "    print(cluster_classification_counts[cluster])\n",
    "    cnt = 0\n",
    "    for i in range(len(clusters)):\n",
    "        if clusters[i] == cluster:\n",
    "            cnt += 1\n",
    "            print(raw_csv.iloc[res_train.index[i]]['document'])\n",
    "        if cnt == 3:\n",
    "            break"
   ]
  },
  {
   "cell_type": "markdown",
   "id": "15676046-aa12-4592-bcd9-59185018198a",
   "metadata": {},
   "source": [
    "We see that this clustering is able to pick up on incorrect paramters, which the first method would not have. "
   ]
  },
  {
   "cell_type": "markdown",
   "id": "ff439741-aed3-4704-afc1-67750c68de3b",
   "metadata": {},
   "source": [
    "#### Retrying the Classification Models\n",
    "Following the same steps, I sample anomalies to achieve a 5% anomalous training and test set."
   ]
  },
  {
   "cell_type": "code",
   "execution_count": 8,
   "id": "29e498e2-b56c-446d-af5c-55db79996ff0",
   "metadata": {},
   "outputs": [],
   "source": [
    "ocsvm_inp_train, ocsvm_res_train = gen_ocsvm_set(inp_train, res_train)\n",
    "ocsvm_inp_test, ocsvm_res_test = gen_ocsvm_set(inp_train, res_train)"
   ]
  },
  {
   "cell_type": "code",
   "execution_count": 9,
   "id": "abe1f821-423f-4e0f-a0ef-464780cba028",
   "metadata": {},
   "outputs": [
    {
     "name": "stdout",
     "output_type": "stream",
     "text": [
      "0.1 0.35625556692595234\n"
     ]
    }
   ],
   "source": [
    "best_gamma = 0.001\n",
    "best_mcc_score = 0\n",
    "gammas = [0.001, 0.005, 0.01, 0.05, 0.1, 0.5]\n",
    "for gamma in gammas:\n",
    "    clf_svm = OneClassSVM(gamma=gamma, nu=0.05)\n",
    "    clf_svm.fit(ocsvm_inp_train)\n",
    "    ocsvm_predict = pd.Series(clf_svm.predict(ocsvm_inp_test)).replace([-1,1],[1,0])\n",
    "    curr_mcc = matthews_corrcoef(y_true=ocsvm_res_test, y_pred=ocsvm_predict)\n",
    "    if curr_mcc > best_mcc_score:\n",
    "        best_gamma = gamma\n",
    "        best_mcc_score = curr_mcc\n",
    "print(best_gamma, best_mcc_score)"
   ]
  },
  {
   "cell_type": "markdown",
   "id": "628a5051-94a5-4b53-9ec5-24381524b2f3",
   "metadata": {},
   "source": [
    "The score is still not great for this one either. In fact, it is slightly lower than with the first pre-processing/vectorization technique. The paper which used Doc2Vec used an ensemble of many different models, so a more robust set of models may be necessary rather than a single one."
   ]
  },
  {
   "cell_type": "code",
   "execution_count": 19,
   "id": "d3b37ec0-cb94-4af5-8f43-689d51258cfb",
   "metadata": {},
   "outputs": [
    {
     "name": "stdout",
     "output_type": "stream",
     "text": [
      "1000 0.7236300333135331\n"
     ]
    }
   ],
   "source": [
    "n_estimators = [10, 50, 100, 500, 1000]\n",
    "best_mcc_score = 0\n",
    "best_n_estimator = 10\n",
    "for n_estimator in n_estimators:\n",
    "    classifier = RandomForestClassifier(n_estimators=n_estimator, random_state=42)\n",
    "    classifier.fit(ocsvm_inp_train, ocsvm_res_train)\n",
    "    cl_res_pred = classifier.predict(ocsvm_inp_test)\n",
    "    curr_mcc = matthews_corrcoef(y_true=ocsvm_res_test, y_pred=cl_res_pred)\n",
    "    if curr_mcc > best_mcc_score:\n",
    "        best_n_estimator = n_estimator\n",
    "        best_mcc_score = curr_mcc\n",
    "print(best_n_estimator, best_mcc_score)"
   ]
  },
  {
   "cell_type": "markdown",
   "id": "7ae6c9b5-be1e-4703-b025-fb7ca70eb945",
   "metadata": {},
   "source": [
    "Surprisingly, the Random Forest significantly outperforms the OC-SVM in this case. An MCC score of 0.72 is really good. I don't know why Random Forest does really well for this case. Maybe the \"ensemble\" aspect of Random Forest is well suited for the more descriptive and less sparse doc2vec vectors."
   ]
  },
  {
   "cell_type": "markdown",
   "id": "b4dc456a-cb4c-4de9-bc6c-d3f2761c136e",
   "metadata": {},
   "source": [
    "## Conclusion <a id=\"conclusion\"></a>\n",
    "\n",
    "This project covered many fundamental aspects of classical ML algorithms, including clustering, classification, data pre-processing/vectorization, and dimensionality reduction, specifically PCA. Overall, the models were fairly successful in detecting anomalies. The clustering models were able to cluster different types of anomalies, like SQL injections and javascript injections. The classification models had moderate to good Matthews Correlation Coefficient scores, with the Random Forest model standing out with a score of 0.72. These models can likely be improved significantly with larger training datasets, more domain knowledge, and a more robust system of multiple models in collaboration."
   ]
  },
  {
   "cell_type": "markdown",
   "id": "0f997d36",
   "metadata": {},
   "source": [
    "## References\n",
    "\n",
    "<a id=\"ref-1\">[1]</a> Y. An, F. Yu, J. Li, J. Chen, and V. Leung, \"Edge Intelligence (EI)-Enabled HTTP Anomaly Detection Framework for the Internet of Things (IoT),\" IEEE Internet of Things Journal, vol. 8, no. 5, Mar. 2021.\n",
    "\n",
    "<a id=\"ref-2\">[2]</a> T. Zhang, R. Ramakrishnan, and M. Livny, \"BIRCH: an efficient data clustering method for very large databases,\" ACM SIGMOD Record, vol. 25, no, 2, pp. 103-114, Jun. 1996.\n",
    "\n",
    "<a id=\"ref-3\">[3]</a> C. She, W. Wen, Z. Lin, and K. Zheng, “Application-layer ddos detection based on a one-class support vector machine,” Int. J. Netw. Security Appl., vol. 9, no. 1, pp. 13–24, Jan. 2017.\n",
    "\n",
    "<a id=\"ref-4\">[4]</a> M. Sheykhmousa, M. Mahdianpari, H. Ghanbari, F. Mohammadimanesh, P. Ghamisi, and S. Homayouni, \"Support Vector Machine Versus Random Forest for Remote Sensing Image Classification: A Meta-Analysis and Systematic Review,\" IEEE Journal of Selected Topics in Applied Earth Observations and Remote Sensing, vol. 13, pp. 6308-6325, 2020.\n",
    "\n",
    "<a id=\"ref-5\">[5]</a> M. Alam and S. Vuong, \"Random Forest Classification for Detecting Android Malware,\" 2013 IEEE International Conference on Green Computing and Communications and IEEE Internet of Things and IEEE Cyber, Physical and Social Computing, pp. 663-669, 2013.\n",
    "\n",
    "<a id=\"ref-6\">[6]</a> S. Xu, Y. Qian, and R. Q. Hu, \"Edge Intelligence Assisted Gateway Defense in Cyber Security,\" IEEE Network, vol. 34, no. 4, pp. 14-19, Jul./Aug. 2020.\n",
    "\n",
    "<a id=\"ref-7\">[7]</a> L. Li, F. Qiang, and L. Ma, \"Advancing Cybersecurity: Graph Neural Networks in Threat Intelligence Knowledge Graphs\", ASENS '24: Proceedings of the International Conference on Algorithms, Software Engineering, and Network Security, pp. 737-741, 2024.\n",
    "\n",
    "<a id=\"ref-8\">[8]</a> S. Das, M. Ashrafuzzaman, F. T. Sheldon, and S. Shiva, \"Network Intrusion Detection using Natural Language Processing and Ensemble Machine Learning,\" 2020 IEEE Symposium Series on Computational Intelligence,  pp. 829-835, 2020."
   ]
  }
 ],
 "metadata": {
  "kernelspec": {
   "display_name": "Python 3 (ipykernel)",
   "language": "python",
   "name": "python3"
  },
  "language_info": {
   "codemirror_mode": {
    "name": "ipython",
    "version": 3
   },
   "file_extension": ".py",
   "mimetype": "text/x-python",
   "name": "python",
   "nbconvert_exporter": "python",
   "pygments_lexer": "ipython3",
   "version": "3.11.9"
  }
 },
 "nbformat": 4,
 "nbformat_minor": 5
}
